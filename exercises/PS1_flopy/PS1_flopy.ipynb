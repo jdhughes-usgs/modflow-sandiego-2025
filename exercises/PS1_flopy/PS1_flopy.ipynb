{
 "cells": [
  {
   "cell_type": "markdown",
   "metadata": {},
   "source": [
    "# Building and post-processing problem set 1 with FloPy"
   ]
  },
  {
   "cell_type": "markdown",
   "metadata": {},
   "source": [
    "## PS1A\n",
    "\n",
    "The model domain will be discretized into 3 layers, 21 rows, and 20 columns. A constant value of 500 ft will be specified for `delr` and `delc`. The top (`TOP`) of the model should be set to 400 ft and the bottom of the three layers (`BOTM`) should be set to 220 ft, 200 ft, and 0 ft, respectively. The model has one steady-state stress period. \n",
    "\n",
    "MODFLOW does not require that input data be provided in specific units (for example, SI units) instead it only requires that consistent units be used. As a result all input data should be specified with a length unit of feet and a time unit of days."
   ]
  },
  {
   "cell_type": "code",
   "execution_count": 1,
   "metadata": {
    "execution": {
     "iopub.execute_input": "2025-01-07T18:44:15.596127Z",
     "iopub.status.busy": "2025-01-07T18:44:15.595977Z",
     "iopub.status.idle": "2025-01-07T18:44:23.630933Z",
     "shell.execute_reply": "2025-01-07T18:44:23.629056Z",
     "shell.execute_reply.started": "2025-01-07T18:44:15.596085Z"
    }
   },
   "outputs": [],
   "source": [
    "import pathlib as pl\n",
    "import platform\n",
    "\n",
    "import flopy\n",
    "import matplotlib as mpl\n",
    "import matplotlib.pyplot as plt\n",
    "import numpy as np"
   ]
  },
  {
   "cell_type": "markdown",
   "metadata": {},
   "source": [
    "Before creating any of the MODFLOW 6 FloPy objects you should define the simulation workspace (`ws`) where the model files are and the simulation name (`name`)."
   ]
  },
  {
   "cell_type": "code",
   "execution_count": 2,
   "metadata": {
    "execution": {
     "iopub.execute_input": "2025-01-07T18:44:23.635855Z",
     "iopub.status.busy": "2025-01-07T18:44:23.634992Z",
     "iopub.status.idle": "2025-01-07T18:44:23.644457Z",
     "shell.execute_reply": "2025-01-07T18:44:23.643749Z",
     "shell.execute_reply.started": "2025-01-07T18:44:23.635821Z"
    }
   },
   "outputs": [],
   "source": [
    "ws = pl.Path(\"PS1a\")\n",
    "name = \"ps1\""
   ]
  },
  {
   "cell_type": "markdown",
   "metadata": {},
   "source": [
    "## Build the model\n",
    "\n",
    "Create a simulation object, a temporal discretization object, and a iterative model solution object using `flopy.mf6.MFSimulation()`, `flopy.mf6.ModflowTdis()`, and `flopy.mf6.ModflowIms()`, respectively. Set the `sim_name` to `name` and `sim_ws` to `ws` in the simulation object. Use default values for all temporal discretization and iterative model solution variables. Make sure to include the simulation object (`sim`) as the first variable in the temporal discretization and iterative model solution objects. \n",
    "\n",
    "**NOTE:** Variables with default values (for example, `time_units=None` in `flopy.mf6.ModflowTdis()`)."
   ]
  },
  {
   "cell_type": "code",
   "execution_count": 3,
   "metadata": {
    "execution": {
     "iopub.execute_input": "2025-01-07T18:44:23.645690Z",
     "iopub.status.busy": "2025-01-07T18:44:23.645442Z",
     "iopub.status.idle": "2025-01-07T18:44:23.710076Z",
     "shell.execute_reply": "2025-01-07T18:44:23.709719Z",
     "shell.execute_reply.started": "2025-01-07T18:44:23.645663Z"
    }
   },
   "outputs": [],
   "source": [
    "# create simulation (sim = flopy.mf6.MFSimulation())\n",
    "sim = flopy.mf6.MFSimulation(sim_name=name, sim_ws=ws)\n",
    "\n",
    "# create tdis package (tdis = flopy.mf6.ModflowTdis(sim))\n",
    "tdis = flopy.mf6.ModflowTdis(sim, perioddata=((365.0, 1, 1.0),))\n",
    "\n",
    "# create iterative model solution (ims = flopy.mf6.ModflowIms(sim))\n",
    "ims = flopy.mf6.ModflowIms(sim)"
   ]
  },
  {
   "cell_type": "markdown",
   "metadata": {},
   "source": [
    "Create the groundwater flow model object (`gwf`) using `flopy.mf6.ModflowGwf()`. Make sure to include the simulation object (`sim`) as the first variable in the groundwater flow model object and set `modelname` to `name`. Use `Shift-Tab` to see the optional variables that can be specified."
   ]
  },
  {
   "cell_type": "code",
   "execution_count": 4,
   "metadata": {
    "execution": {
     "iopub.execute_input": "2025-01-07T18:44:23.710589Z",
     "iopub.status.busy": "2025-01-07T18:44:23.710495Z",
     "iopub.status.idle": "2025-01-07T18:44:23.714560Z",
     "shell.execute_reply": "2025-01-07T18:44:23.714166Z",
     "shell.execute_reply.started": "2025-01-07T18:44:23.710580Z"
    }
   },
   "outputs": [],
   "source": [
    "gwf = flopy.mf6.ModflowGwf(sim, modelname=name, save_flows=True, print_flows=True)"
   ]
  },
  {
   "cell_type": "markdown",
   "metadata": {},
   "source": [
    "Create the discretization package using `flopy.mf6.ModflowGwfdis()`. Use `Shift-Tab` to see the optional variables that can be specified. A description of the data required by the `DIS` package (`flopy.mf6.ModflowGwfdis()`) can be found in the MODFLOW 6 [ReadTheDocs document](https://modflow6.readthedocs.io/en/latest/_mf6io/gwf-dis.html).\n",
    "\n",
    "FloPy can accomodate all of the options for specifying array data for a model. `CONSTANT` values for a variable can be specified by using a `float` or `int` python variable (as is done below for `DELR`, `DELC`, and `TOP`). `LAYERED` data can be specified by using a list or `CONSTANT` values for each layer (as is done below for `BOTM` data) or a list of numpy arrays or lists. Three-Dimensional data can be specified using a three-dimensional numpy array (with a shape of `(nlay, nrow, ncol)`) for this example. More information on how to specify array data can be found in the [FloPy ReadTheDocs](https://flopy.readthedocs.io/en/latest/Notebooks/mf6_data_tutorial07.html#MODFLOW-6:-Working-with-MODFLOW-Grid-Array-Data). "
   ]
  },
  {
   "cell_type": "code",
   "execution_count": 5,
   "metadata": {
    "execution": {
     "iopub.execute_input": "2025-01-07T18:44:23.715822Z",
     "iopub.status.busy": "2025-01-07T18:44:23.715423Z",
     "iopub.status.idle": "2025-01-07T18:44:23.719366Z",
     "shell.execute_reply": "2025-01-07T18:44:23.718979Z",
     "shell.execute_reply.started": "2025-01-07T18:44:23.715809Z"
    }
   },
   "outputs": [],
   "source": [
    "# dis data\n",
    "nlay, nrow, ncol = 3, 21, 20\n",
    "delr = delc = 500.\n",
    "top = 400\n",
    "botm = [220, 200, 0]"
   ]
  },
  {
   "cell_type": "code",
   "execution_count": 6,
   "metadata": {
    "execution": {
     "iopub.execute_input": "2025-01-07T18:44:23.720008Z",
     "iopub.status.busy": "2025-01-07T18:44:23.719912Z",
     "iopub.status.idle": "2025-01-07T18:44:23.723373Z",
     "shell.execute_reply": "2025-01-07T18:44:23.723045Z",
     "shell.execute_reply.started": "2025-01-07T18:44:23.719998Z"
    }
   },
   "outputs": [],
   "source": [
    "dis = flopy.mf6.ModflowGwfdis(gwf, nlay=nlay, nrow=nrow, ncol=ncol, delr=delr, delc=delc, top=top, botm=botm)"
   ]
  },
  {
   "cell_type": "markdown",
   "metadata": {},
   "source": [
    "### Create the initial conditions (IC) package\n",
    "\n",
    "Create the initial conditions package (`IC`) using `flopy.mf6.ModflowGwfic()` and set the initial head (`strt`) to 320. Default values can be used for the rest of the initial conditions package input. Use `Shift-Tab` to see the optional variables that can be specified. A description of the data required by the `IC` package (`flopy.mf6.ModflowGwfic()`) can be found in the MODFLOW 6 [ReadTheDocs document](https://modflow6.readthedocs.io/en/latest/_mf6io/gwf-ic.html)."
   ]
  },
  {
   "cell_type": "code",
   "execution_count": 7,
   "metadata": {
    "execution": {
     "iopub.execute_input": "2025-01-07T18:44:23.724106Z",
     "iopub.status.busy": "2025-01-07T18:44:23.723974Z",
     "iopub.status.idle": "2025-01-07T18:44:23.727092Z",
     "shell.execute_reply": "2025-01-07T18:44:23.726653Z",
     "shell.execute_reply.started": "2025-01-07T18:44:23.724094Z"
    }
   },
   "outputs": [],
   "source": [
    "ic = flopy.mf6.ModflowGwfic(gwf, strt=420)"
   ]
  },
  {
   "cell_type": "markdown",
   "metadata": {},
   "source": [
    "### Create the node property flow (NPF) package\n",
    "\n",
    "The hydraulic properties for the model are defined in the image above and are specified in the node property flow package (`NPF`) using `flopy.mf6.ModflowGwfnpf()`. The first layer should be convertible (unconfined) and the remaining two layers will be non-convertible so `icelltype` should be `[1, 0, 0]`. The horizontal (`k`) and vertical (`k33`) conductivity should also be assigned as python lists (`[,,]`) and the values shown in the image above. The variable `save_specific_discharge` should be set to `True` so that specific discharge data are saved to the cell-by-cell file and can be used to plot discharge. Use `Shift-Tab` to see the optional variables that can be specified. A description of the data required by the `NPF` package (`flopy.mf6.ModflowGwfic()`) can be found in the MODFLOW 6 [ReadTheDocs document](https://modflow6.readthedocs.io/en/latest/_mf6io/gwf-npf.html)."
   ]
  },
  {
   "cell_type": "code",
   "execution_count": 8,
   "metadata": {
    "execution": {
     "iopub.execute_input": "2025-01-07T18:44:23.727921Z",
     "iopub.status.busy": "2025-01-07T18:44:23.727800Z",
     "iopub.status.idle": "2025-01-07T18:44:23.730683Z",
     "shell.execute_reply": "2025-01-07T18:44:23.730086Z",
     "shell.execute_reply.started": "2025-01-07T18:44:23.727909Z"
    }
   },
   "outputs": [],
   "source": [
    "icelltype = [1, 0, 0]\n",
    "k = [50, 0.01, 200]\n",
    "k33 = [10, 0.01, 20]"
   ]
  },
  {
   "cell_type": "code",
   "execution_count": 9,
   "metadata": {
    "execution": {
     "iopub.execute_input": "2025-01-07T18:44:23.731616Z",
     "iopub.status.busy": "2025-01-07T18:44:23.731396Z",
     "iopub.status.idle": "2025-01-07T18:44:23.736756Z",
     "shell.execute_reply": "2025-01-07T18:44:23.736393Z",
     "shell.execute_reply.started": "2025-01-07T18:44:23.731602Z"
    }
   },
   "outputs": [],
   "source": [
    "npf = flopy.mf6.ModflowGwfnpf(gwf, save_specific_discharge=True, icelltype=icelltype, k=k, k33=k33)"
   ]
  },
  {
   "cell_type": "markdown",
   "metadata": {},
   "source": [
    "## Create the river chd\n",
    "\n",
    "The river is located in layer 1 and column 20 in every row in the model. The river stage stage is 320. Use the `flopy.mf6.ModflowGwfchd()` method to specify well data for the river package (`RIV`). Use `Shift-Tab` to see the optional variables that can be specified. A description of the data required by the `RIV` package (`flopy.mf6.ModflowGwfchd()`) can be found in the MODFLOW 6 [ReadTheDocs document](https://modflow6.readthedocs.io/en/latest/_mf6io/gwf-chd.html).\n",
    "\n",
    "An example of a `stress_period_data` tuple for the `CHD` package is\n",
    "\n",
    "```python\n",
    "# (layer, row, column, head)\n",
    "(0, 0, 0, 320.)\n",
    "```\n",
    "\n",
    "**HINT**: list comprehension is an easy way to create a constant head cell in every row in column 20 of the model.\n",
    "\n",
    "**NOTE:** Remember the `pname=\"river\"` tip to prevent creating multiple versions of the river package if you rerun the cell.\n"
   ]
  },
  {
   "cell_type": "code",
   "execution_count": 10,
   "metadata": {
    "execution": {
     "iopub.execute_input": "2025-01-07T18:44:23.737487Z",
     "iopub.status.busy": "2025-01-07T18:44:23.737361Z",
     "iopub.status.idle": "2025-01-07T18:44:23.740677Z",
     "shell.execute_reply": "2025-01-07T18:44:23.739936Z",
     "shell.execute_reply.started": "2025-01-07T18:44:23.737475Z"
    }
   },
   "outputs": [],
   "source": [
    "riv_spd = [(0, i, ncol - 1, 320) for i in range(nrow)]"
   ]
  },
  {
   "cell_type": "code",
   "execution_count": 11,
   "metadata": {
    "execution": {
     "iopub.execute_input": "2025-01-07T18:44:23.741618Z",
     "iopub.status.busy": "2025-01-07T18:44:23.741496Z",
     "iopub.status.idle": "2025-01-07T18:44:23.746113Z",
     "shell.execute_reply": "2025-01-07T18:44:23.745761Z",
     "shell.execute_reply.started": "2025-01-07T18:44:23.741607Z"
    }
   },
   "outputs": [
    {
     "data": {
      "text/plain": [
       "[(0, 0, 19, 320),\n",
       " (0, 1, 19, 320),\n",
       " (0, 2, 19, 320),\n",
       " (0, 3, 19, 320),\n",
       " (0, 4, 19, 320),\n",
       " (0, 5, 19, 320),\n",
       " (0, 6, 19, 320),\n",
       " (0, 7, 19, 320),\n",
       " (0, 8, 19, 320),\n",
       " (0, 9, 19, 320),\n",
       " (0, 10, 19, 320),\n",
       " (0, 11, 19, 320),\n",
       " (0, 12, 19, 320),\n",
       " (0, 13, 19, 320),\n",
       " (0, 14, 19, 320),\n",
       " (0, 15, 19, 320),\n",
       " (0, 16, 19, 320),\n",
       " (0, 17, 19, 320),\n",
       " (0, 18, 19, 320),\n",
       " (0, 19, 19, 320),\n",
       " (0, 20, 19, 320)]"
      ]
     },
     "execution_count": 11,
     "metadata": {},
     "output_type": "execute_result"
    }
   ],
   "source": [
    "riv_spd"
   ]
  },
  {
   "cell_type": "code",
   "execution_count": 12,
   "metadata": {
    "execution": {
     "iopub.execute_input": "2025-01-07T18:44:23.746968Z",
     "iopub.status.busy": "2025-01-07T18:44:23.746846Z",
     "iopub.status.idle": "2025-01-07T18:44:23.750566Z",
     "shell.execute_reply": "2025-01-07T18:44:23.750208Z",
     "shell.execute_reply.started": "2025-01-07T18:44:23.746957Z"
    }
   },
   "outputs": [],
   "source": [
    "riv_chd = flopy.mf6.ModflowGwfchd(gwf, stress_period_data=riv_spd, pname=\"river\")"
   ]
  },
  {
   "cell_type": "markdown",
   "metadata": {
    "execution": {
     "iopub.execute_input": "2025-01-06T18:16:35.126794Z",
     "iopub.status.busy": "2025-01-06T18:16:35.126576Z",
     "iopub.status.idle": "2025-01-06T18:16:35.131811Z",
     "shell.execute_reply": "2025-01-06T18:16:35.131007Z",
     "shell.execute_reply.started": "2025-01-06T18:16:35.126780Z"
    }
   },
   "source": [
    "## Create the canal chd\n",
    "\n",
    "The canal is located in layer 1 and column 1 in every row in the model. The canal stage stage is 330. Use the `flopy.mf6.ModflowGwfchd()` method to specify well data for the river package (`RIV`). Use `Shift-Tab` to see the optional variables that can be specified. A description of the data required by the `RIV` package (`flopy.mf6.ModflowGwfchd()`) can be found in the MODFLOW 6 [ReadTheDocs document](https://modflow6.readthedocs.io/en/latest/_mf6io/gwf-chd.html).\n",
    "\n",
    "An example of a `stress_period_data` tuple for the `CHD` package is\n",
    "\n",
    "```python\n",
    "# (layer, row, column, head)\n",
    "(0, 0, 0, 330.)\n",
    "```\n",
    "\n",
    "**HINT**: list comprehension is an easy way to create a constant head cell in every row in column 1 of the model.\n",
    "\n",
    "**NOTE:** Remember the `pname=\"canal\"` tip to prevent creating multiple versions of the chd canal package if you rerun the cell.\n"
   ]
  },
  {
   "cell_type": "code",
   "execution_count": 13,
   "metadata": {
    "execution": {
     "iopub.execute_input": "2025-01-07T18:44:23.751580Z",
     "iopub.status.busy": "2025-01-07T18:44:23.751275Z",
     "iopub.status.idle": "2025-01-07T18:44:23.753870Z",
     "shell.execute_reply": "2025-01-07T18:44:23.753437Z",
     "shell.execute_reply.started": "2025-01-07T18:44:23.751566Z"
    }
   },
   "outputs": [],
   "source": [
    "canal_spd = [(0, i, 0, 330) for i in range(nrow)]"
   ]
  },
  {
   "cell_type": "code",
   "execution_count": 14,
   "metadata": {
    "execution": {
     "iopub.execute_input": "2025-01-07T18:44:23.754716Z",
     "iopub.status.busy": "2025-01-07T18:44:23.754586Z",
     "iopub.status.idle": "2025-01-07T18:44:23.758102Z",
     "shell.execute_reply": "2025-01-07T18:44:23.757770Z",
     "shell.execute_reply.started": "2025-01-07T18:44:23.754705Z"
    }
   },
   "outputs": [
    {
     "data": {
      "text/plain": [
       "[(0, 0, 0, 330),\n",
       " (0, 1, 0, 330),\n",
       " (0, 2, 0, 330),\n",
       " (0, 3, 0, 330),\n",
       " (0, 4, 0, 330),\n",
       " (0, 5, 0, 330),\n",
       " (0, 6, 0, 330),\n",
       " (0, 7, 0, 330),\n",
       " (0, 8, 0, 330),\n",
       " (0, 9, 0, 330),\n",
       " (0, 10, 0, 330),\n",
       " (0, 11, 0, 330),\n",
       " (0, 12, 0, 330),\n",
       " (0, 13, 0, 330),\n",
       " (0, 14, 0, 330),\n",
       " (0, 15, 0, 330),\n",
       " (0, 16, 0, 330),\n",
       " (0, 17, 0, 330),\n",
       " (0, 18, 0, 330),\n",
       " (0, 19, 0, 330),\n",
       " (0, 20, 0, 330)]"
      ]
     },
     "execution_count": 14,
     "metadata": {},
     "output_type": "execute_result"
    }
   ],
   "source": [
    "canal_spd"
   ]
  },
  {
   "cell_type": "code",
   "execution_count": 15,
   "metadata": {
    "execution": {
     "iopub.execute_input": "2025-01-07T18:44:23.759028Z",
     "iopub.status.busy": "2025-01-07T18:44:23.758914Z",
     "iopub.status.idle": "2025-01-07T18:44:23.762566Z",
     "shell.execute_reply": "2025-01-07T18:44:23.762125Z",
     "shell.execute_reply.started": "2025-01-07T18:44:23.759018Z"
    }
   },
   "outputs": [],
   "source": [
    "canal_chd = flopy.mf6.ModflowGwfchd(gwf, stress_period_data=canal_spd, pname=\"canal\")"
   ]
  },
  {
   "cell_type": "markdown",
   "metadata": {},
   "source": [
    "### Build output control\n",
    "\n",
    "Define the output control package (`OC`) for the model using the `flopy.mf6.ModflowGwfoc()` method to `[('HEAD', 'ALL'), ('BUDGET', 'ALL')]` to save the head and flow for the model. Also the head (`head_filerecord`) and cell-by-cell flow (`budget_filerecord`) files should be set to `f\"{name}.hds\"` and `f\"{name}.cbc\"`, respectively. Use `Shift-Tab` to see the optional variables that can be specified. A description of the data required by the `OC` package (`flopy.mf6.ModflowGwfoc()`) can be found in the MODFLOW 6 [ReadTheDocs document](https://modflow6.readthedocs.io/en/latest/_mf6io/gwf-oc.html)."
   ]
  },
  {
   "cell_type": "code",
   "execution_count": 16,
   "metadata": {
    "execution": {
     "iopub.execute_input": "2025-01-07T18:44:23.763281Z",
     "iopub.status.busy": "2025-01-07T18:44:23.763125Z",
     "iopub.status.idle": "2025-01-07T18:44:23.772986Z",
     "shell.execute_reply": "2025-01-07T18:44:23.772504Z",
     "shell.execute_reply.started": "2025-01-07T18:44:23.763270Z"
    }
   },
   "outputs": [],
   "source": [
    "oc = flopy.mf6.ModflowGwfoc(\n",
    "    gwf,\n",
    "    headprintrecord=[\"COLUMNS\", 20, \"WIDTH\", 10, \"DIGITS\", 4, \"FIXED\"],\n",
    "    head_filerecord=f\"{name}.hds\",\n",
    "    budget_filerecord=f\"{name}.cbc\",\n",
    "    saverecord=[(\"HEAD\", \"ALL\"), (\"BUDGET\", \"ALL\")],\n",
    "    printrecord=[(\"HEAD\", \"ALL\")],\n",
    ")"
   ]
  },
  {
   "cell_type": "markdown",
   "metadata": {},
   "source": [
    "### Write the model files and run the model\n",
    "\n",
    "Write the MODFLOW 6 model files using `sim.write_simulation()`. Use `Shift-Tab` to see the optional variables that can be specified for `.write_simulation()`."
   ]
  },
  {
   "cell_type": "code",
   "execution_count": 17,
   "metadata": {
    "execution": {
     "iopub.execute_input": "2025-01-07T18:44:23.773598Z",
     "iopub.status.busy": "2025-01-07T18:44:23.773497Z",
     "iopub.status.idle": "2025-01-07T18:44:23.883356Z",
     "shell.execute_reply": "2025-01-07T18:44:23.883036Z",
     "shell.execute_reply.started": "2025-01-07T18:44:23.773588Z"
    }
   },
   "outputs": [
    {
     "name": "stdout",
     "output_type": "stream",
     "text": [
      "writing simulation...\n",
      "  writing simulation name file...\n",
      "  writing simulation tdis package...\n",
      "  writing solution package ims_-1...\n",
      "  writing model ps1...\n",
      "    writing model name file...\n",
      "    writing package dis...\n",
      "    writing package ic...\n",
      "    writing package npf...\n",
      "    writing package river...\n",
      "INFORMATION: maxbound in ('gwf6', 'chd', 'dimensions') changed to 21 based on size of stress_period_data\n",
      "    writing package canal...\n",
      "INFORMATION: maxbound in ('gwf6', 'chd', 'dimensions') changed to 21 based on size of stress_period_data\n",
      "    writing package oc...\n"
     ]
    }
   ],
   "source": [
    "sim.write_simulation()"
   ]
  },
  {
   "cell_type": "markdown",
   "metadata": {},
   "source": [
    "Run the model using `sim.run_simulation()`, which will run the MODFLOW 6 executable installed in the Miniforge class environment (`pyclass`) and the MODFLOW 6 model files created with `.write_simulation()`. Use `Shift-Tab` to see the optional variables that can be specified for `.run_simulation()`."
   ]
  },
  {
   "cell_type": "code",
   "execution_count": 18,
   "metadata": {
    "execution": {
     "iopub.execute_input": "2025-01-07T18:44:23.884089Z",
     "iopub.status.busy": "2025-01-07T18:44:23.883978Z",
     "iopub.status.idle": "2025-01-07T18:44:23.999577Z",
     "shell.execute_reply": "2025-01-07T18:44:23.999265Z",
     "shell.execute_reply.started": "2025-01-07T18:44:23.884078Z"
    }
   },
   "outputs": [
    {
     "name": "stdout",
     "output_type": "stream",
     "text": [
      "FloPy is using the following executable to run the model: ../../../../../../miniforge3/envs/gw3099/bin/mf6\n",
      "                                   MODFLOW 6\n",
      "                U.S. GEOLOGICAL SURVEY MODULAR HYDROLOGIC MODEL\n",
      "                  VERSION 6.6.0.dev0 (preliminary) 12/05/2024\n",
      "                               ***DEVELOP MODE***\n",
      "\n",
      "        MODFLOW 6 compiled Dec  5 2024 13:34:29 with GCC version 13.3.0\n",
      "\n",
      "This software is preliminary or provisional and is subject to \n",
      "revision. It is being provided to meet the need for timely best \n",
      "science. The software has not received final approval by the U.S. \n",
      "Geological Survey (USGS). No warranty, expressed or implied, is made \n",
      "by the USGS or the U.S. Government as to the functionality of the \n",
      "software and related material nor shall the fact of release \n",
      "constitute any such warranty. The software is provided on the \n",
      "condition that neither the USGS nor the U.S. Government shall be held \n",
      "liable for any damages resulting from the authorized or unauthorized \n",
      "use of the software.\n",
      "\n",
      "\n",
      " MODFLOW runs in SEQUENTIAL mode\n",
      "\n",
      " Run start date and time (yyyy/mm/dd hh:mm:ss): 2025/01/07 10:44:23\n",
      "\n",
      " Writing simulation list file: mfsim.lst\n",
      " Using Simulation name file: mfsim.nam\n",
      "\n",
      "    Solving:  Stress period:     1    Time step:     1\n",
      "\n",
      " Run end date and time (yyyy/mm/dd hh:mm:ss): 2025/01/07 10:44:23\n",
      " Elapsed run time:  0.059 Seconds\n",
      "\n",
      " Normal termination of simulation.\n"
     ]
    },
    {
     "data": {
      "text/plain": [
       "(True, [])"
      ]
     },
     "execution_count": 18,
     "metadata": {},
     "output_type": "execute_result"
    }
   ],
   "source": [
    "sim.run_simulation()"
   ]
  },
  {
   "cell_type": "markdown",
   "metadata": {},
   "source": [
    "## Post-process the results\n",
    "\n",
    "\n",
    "### Exercise 1\n",
    "Load the listing file to see the inflows and outflows"
   ]
  },
  {
   "cell_type": "code",
   "execution_count": 19,
   "metadata": {
    "execution": {
     "iopub.execute_input": "2025-01-07T18:44:24.000399Z",
     "iopub.status.busy": "2025-01-07T18:44:24.000264Z",
     "iopub.status.idle": "2025-01-07T18:44:24.018193Z",
     "shell.execute_reply": "2025-01-07T18:44:24.017750Z",
     "shell.execute_reply.started": "2025-01-07T18:44:24.000388Z"
    }
   },
   "outputs": [],
   "source": [
    "lst = gwf.output.list()"
   ]
  },
  {
   "cell_type": "code",
   "execution_count": 20,
   "metadata": {
    "execution": {
     "iopub.execute_input": "2025-01-07T18:44:24.018747Z",
     "iopub.status.busy": "2025-01-07T18:44:24.018654Z",
     "iopub.status.idle": "2025-01-07T18:44:24.041487Z",
     "shell.execute_reply": "2025-01-07T18:44:24.041177Z",
     "shell.execute_reply.started": "2025-01-07T18:44:24.018737Z"
    }
   },
   "outputs": [
    {
     "data": {
      "text/html": [
       "<div>\n",
       "<style scoped>\n",
       "    .dataframe tbody tr th:only-of-type {\n",
       "        vertical-align: middle;\n",
       "    }\n",
       "\n",
       "    .dataframe tbody tr th {\n",
       "        vertical-align: top;\n",
       "    }\n",
       "\n",
       "    .dataframe thead th {\n",
       "        text-align: right;\n",
       "    }\n",
       "</style>\n",
       "<table border=\"1\" class=\"dataframe\">\n",
       "  <thead>\n",
       "    <tr style=\"text-align: right;\">\n",
       "      <th></th>\n",
       "      <th>CHD_IN</th>\n",
       "      <th>CHD2_IN</th>\n",
       "      <th>TOTAL_IN</th>\n",
       "      <th>CHD_OUT</th>\n",
       "      <th>CHD2_OUT</th>\n",
       "      <th>TOTAL_OUT</th>\n",
       "      <th>IN-OUT</th>\n",
       "      <th>PERCENT_DISCREPANCY</th>\n",
       "    </tr>\n",
       "  </thead>\n",
       "  <tbody>\n",
       "    <tr>\n",
       "      <th>1971-01-01</th>\n",
       "      <td>0.0</td>\n",
       "      <td>96951.539062</td>\n",
       "      <td>96951.539062</td>\n",
       "      <td>96949.4375</td>\n",
       "      <td>0.0</td>\n",
       "      <td>96949.4375</td>\n",
       "      <td>2.1017</td>\n",
       "      <td>0.0</td>\n",
       "    </tr>\n",
       "  </tbody>\n",
       "</table>\n",
       "</div>"
      ],
      "text/plain": [
       "            CHD_IN       CHD2_IN      TOTAL_IN     CHD_OUT  CHD2_OUT  \\\n",
       "1971-01-01     0.0  96951.539062  96951.539062  96949.4375       0.0   \n",
       "\n",
       "             TOTAL_OUT  IN-OUT  PERCENT_DISCREPANCY  \n",
       "1971-01-01  96949.4375  2.1017                  0.0  "
      ]
     },
     "execution_count": 20,
     "metadata": {},
     "output_type": "execute_result"
    }
   ],
   "source": [
    "ds = lst.get_dataframes()[0]\n",
    "ds"
   ]
  },
  {
   "cell_type": "markdown",
   "metadata": {},
   "source": [
    "Load the heads and face flows from the hds file. The head file can be loaded with the `gwf.output.head().get_data()` method. Name the heads data `hds`."
   ]
  },
  {
   "cell_type": "code",
   "execution_count": 21,
   "metadata": {
    "execution": {
     "iopub.execute_input": "2025-01-07T18:44:24.048225Z",
     "iopub.status.busy": "2025-01-07T18:44:24.048064Z",
     "iopub.status.idle": "2025-01-07T18:44:24.056298Z",
     "shell.execute_reply": "2025-01-07T18:44:24.056001Z",
     "shell.execute_reply.started": "2025-01-07T18:44:24.048210Z"
    }
   },
   "outputs": [],
   "source": [
    "hds = gwf.output.head().get_data()"
   ]
  },
  {
   "cell_type": "code",
   "execution_count": 22,
   "metadata": {
    "execution": {
     "iopub.execute_input": "2025-01-07T18:44:24.056788Z",
     "iopub.status.busy": "2025-01-07T18:44:24.056692Z",
     "iopub.status.idle": "2025-01-07T18:44:24.060641Z",
     "shell.execute_reply": "2025-01-07T18:44:24.060015Z",
     "shell.execute_reply.started": "2025-01-07T18:44:24.056778Z"
    }
   },
   "outputs": [
    {
     "data": {
      "text/plain": [
       "array([330.        , 329.25942191, 328.59984434, 328.00817433,\n",
       "       327.47268975, 326.98281118, 326.52890663, 326.10210529,\n",
       "       325.69408801, 325.29689924, 324.90275428, 324.50383646,\n",
       "       324.09208382, 323.65895973, 323.19519864, 322.6905155 ,\n",
       "       322.13326603, 321.5100372 , 320.80514212, 320.        ])"
      ]
     },
     "execution_count": 22,
     "metadata": {},
     "output_type": "execute_result"
    }
   ],
   "source": [
    "hds[0, 0, :]"
   ]
  },
  {
   "cell_type": "code",
   "execution_count": 23,
   "metadata": {
    "execution": {
     "iopub.execute_input": "2025-01-07T18:44:24.061433Z",
     "iopub.status.busy": "2025-01-07T18:44:24.061273Z",
     "iopub.status.idle": "2025-01-07T18:44:24.064671Z",
     "shell.execute_reply": "2025-01-07T18:44:24.064166Z",
     "shell.execute_reply.started": "2025-01-07T18:44:24.061421Z"
    }
   },
   "outputs": [
    {
     "data": {
      "text/plain": [
       "array([327.75069153, 327.37432502, 327.03235786, 326.71941741,\n",
       "       326.43050819, 326.16112295, 325.90714429, 325.66476024,\n",
       "       325.4303907 , 325.20060645, 324.97204314, 324.74131357,\n",
       "       324.50491623, 324.25913563, 323.9999304 , 323.72280367,\n",
       "       323.42264865, 323.0935688 , 322.72864819, 322.31985446])"
      ]
     },
     "execution_count": 23,
     "metadata": {},
     "output_type": "execute_result"
    }
   ],
   "source": [
    "hds[1, 0, :]"
   ]
  },
  {
   "cell_type": "markdown",
   "metadata": {},
   "source": [
    "### Canal flux"
   ]
  },
  {
   "cell_type": "code",
   "execution_count": 24,
   "metadata": {
    "execution": {
     "iopub.execute_input": "2025-01-07T18:44:24.065366Z",
     "iopub.status.busy": "2025-01-07T18:44:24.065257Z",
     "iopub.status.idle": "2025-01-07T18:44:24.079937Z",
     "shell.execute_reply": "2025-01-07T18:44:24.079596Z",
     "shell.execute_reply.started": "2025-01-07T18:44:24.065355Z"
    }
   },
   "outputs": [
    {
     "data": {
      "text/plain": [
       "np.float64(109.62971095314083)"
      ]
     },
     "execution_count": 24,
     "metadata": {},
     "output_type": "execute_result"
    }
   ],
   "source": [
    "bmean = hds[0, 0, 0:2].mean() - botm[0]\n",
    "bmean"
   ]
  },
  {
   "cell_type": "code",
   "execution_count": 25,
   "metadata": {
    "execution": {
     "iopub.execute_input": "2025-01-07T18:44:24.080662Z",
     "iopub.status.busy": "2025-01-07T18:44:24.080552Z",
     "iopub.status.idle": "2025-01-07T18:44:24.083779Z",
     "shell.execute_reply": "2025-01-07T18:44:24.083290Z",
     "shell.execute_reply.started": "2025-01-07T18:44:24.080652Z"
    }
   },
   "outputs": [
    {
     "data": {
      "text/plain": [
       "np.float64(5481.485547657041)"
      ]
     },
     "execution_count": 25,
     "metadata": {},
     "output_type": "execute_result"
    }
   ],
   "source": [
    "C = k[0] * bmean * delc / delr\n",
    "C"
   ]
  },
  {
   "cell_type": "markdown",
   "metadata": {},
   "source": [
    "$Q = q * area = -K area * dh / dx$"
   ]
  },
  {
   "cell_type": "code",
   "execution_count": 26,
   "metadata": {
    "execution": {
     "iopub.execute_input": "2025-01-07T18:44:24.084644Z",
     "iopub.status.busy": "2025-01-07T18:44:24.084418Z",
     "iopub.status.idle": "2025-01-07T18:44:24.087866Z",
     "shell.execute_reply": "2025-01-07T18:44:24.087540Z",
     "shell.execute_reply.started": "2025-01-07T18:44:24.084631Z"
    }
   },
   "outputs": [
    {
     "data": {
      "text/plain": [
       "np.float64(4059.4681176284867)"
      ]
     },
     "execution_count": 26,
     "metadata": {},
     "output_type": "execute_result"
    }
   ],
   "source": [
    "k[0] * bmean * delc * ((hds[0, 0, 0] - hds[0, 0, 1]) / delr)"
   ]
  },
  {
   "cell_type": "code",
   "execution_count": 27,
   "metadata": {
    "execution": {
     "iopub.execute_input": "2025-01-07T18:44:24.088588Z",
     "iopub.status.busy": "2025-01-07T18:44:24.088458Z",
     "iopub.status.idle": "2025-01-07T18:44:24.091909Z",
     "shell.execute_reply": "2025-01-07T18:44:24.091353Z",
     "shell.execute_reply.started": "2025-01-07T18:44:24.088572Z"
    }
   },
   "outputs": [
    {
     "data": {
      "text/plain": [
       "np.float64(4059.468117628487)"
      ]
     },
     "execution_count": 27,
     "metadata": {},
     "output_type": "execute_result"
    }
   ],
   "source": [
    "Q = C * (hds[0, 0, 0] - hds[0, 0, 1])\n",
    "Q"
   ]
  },
  {
   "cell_type": "code",
   "execution_count": 28,
   "metadata": {
    "execution": {
     "iopub.execute_input": "2025-01-07T18:44:24.092529Z",
     "iopub.status.busy": "2025-01-07T18:44:24.092427Z",
     "iopub.status.idle": "2025-01-07T18:44:24.095335Z",
     "shell.execute_reply": "2025-01-07T18:44:24.094932Z",
     "shell.execute_reply.started": "2025-01-07T18:44:24.092519Z"
    }
   },
   "outputs": [
    {
     "data": {
      "text/plain": [
       "250.0"
      ]
     },
     "execution_count": 28,
     "metadata": {},
     "output_type": "execute_result"
    }
   ],
   "source": [
    "C12 = k33[1] * delr * delc / 10.\n",
    "C12"
   ]
  },
  {
   "cell_type": "code",
   "execution_count": 29,
   "metadata": {
    "execution": {
     "iopub.execute_input": "2025-01-07T18:44:24.096233Z",
     "iopub.status.busy": "2025-01-07T18:44:24.096097Z",
     "iopub.status.idle": "2025-01-07T18:44:24.099472Z",
     "shell.execute_reply": "2025-01-07T18:44:24.099050Z",
     "shell.execute_reply.started": "2025-01-07T18:44:24.096217Z"
    }
   },
   "outputs": [
    {
     "data": {
      "text/plain": [
       "np.float64(562.3271164797217)"
      ]
     },
     "execution_count": 29,
     "metadata": {},
     "output_type": "execute_result"
    }
   ],
   "source": [
    "Q12 = C12 * (hds[0, 0, 0] - hds[1, 0, 0])\n",
    "Q12"
   ]
  },
  {
   "cell_type": "code",
   "execution_count": 30,
   "metadata": {
    "execution": {
     "iopub.execute_input": "2025-01-07T18:44:24.100343Z",
     "iopub.status.busy": "2025-01-07T18:44:24.100180Z",
     "iopub.status.idle": "2025-01-07T18:44:24.103232Z",
     "shell.execute_reply": "2025-01-07T18:44:24.102790Z",
     "shell.execute_reply.started": "2025-01-07T18:44:24.100330Z"
    }
   },
   "outputs": [
    {
     "data": {
      "text/plain": [
       "np.float64(97057.6999162724)"
      ]
     },
     "execution_count": 30,
     "metadata": {},
     "output_type": "execute_result"
    }
   ],
   "source": [
    "21 * (Q + Q12)"
   ]
  },
  {
   "cell_type": "markdown",
   "metadata": {},
   "source": [
    "### River flux"
   ]
  },
  {
   "cell_type": "code",
   "execution_count": 31,
   "metadata": {
    "execution": {
     "iopub.execute_input": "2025-01-07T18:44:24.104012Z",
     "iopub.status.busy": "2025-01-07T18:44:24.103865Z",
     "iopub.status.idle": "2025-01-07T18:44:24.107000Z",
     "shell.execute_reply": "2025-01-07T18:44:24.106524Z",
     "shell.execute_reply.started": "2025-01-07T18:44:24.104001Z"
    }
   },
   "outputs": [
    {
     "data": {
      "text/plain": [
       "np.float64(100.40257106145367)"
      ]
     },
     "execution_count": 31,
     "metadata": {},
     "output_type": "execute_result"
    }
   ],
   "source": [
    "bmean = hds[0, 0, 18:20].mean() - botm[0]\n",
    "bmean"
   ]
  },
  {
   "cell_type": "code",
   "execution_count": 32,
   "metadata": {
    "execution": {
     "iopub.execute_input": "2025-01-07T18:44:24.108044Z",
     "iopub.status.busy": "2025-01-07T18:44:24.107851Z",
     "iopub.status.idle": "2025-01-07T18:44:24.110851Z",
     "shell.execute_reply": "2025-01-07T18:44:24.110534Z",
     "shell.execute_reply.started": "2025-01-07T18:44:24.108023Z"
    }
   },
   "outputs": [
    {
     "data": {
      "text/plain": [
       "np.float64(5020.128553072684)"
      ]
     },
     "execution_count": 32,
     "metadata": {},
     "output_type": "execute_result"
    }
   ],
   "source": [
    "C = k[0] * bmean * delc / delr\n",
    "C"
   ]
  },
  {
   "cell_type": "code",
   "execution_count": 33,
   "metadata": {
    "execution": {
     "iopub.execute_input": "2025-01-07T18:44:24.111750Z",
     "iopub.status.busy": "2025-01-07T18:44:24.111558Z",
     "iopub.status.idle": "2025-01-07T18:44:24.114575Z",
     "shell.execute_reply": "2025-01-07T18:44:24.114111Z",
     "shell.execute_reply.started": "2025-01-07T18:44:24.111723Z"
    }
   },
   "outputs": [
    {
     "data": {
      "text/plain": [
       "np.float64(4041.9169604886997)"
      ]
     },
     "execution_count": 33,
     "metadata": {},
     "output_type": "execute_result"
    }
   ],
   "source": [
    "Q = C * (hds[0, 0, 18] - hds[0, 0, 19])\n",
    "Q"
   ]
  },
  {
   "cell_type": "code",
   "execution_count": 34,
   "metadata": {
    "execution": {
     "iopub.execute_input": "2025-01-07T18:44:24.115344Z",
     "iopub.status.busy": "2025-01-07T18:44:24.115232Z",
     "iopub.status.idle": "2025-01-07T18:44:24.118546Z",
     "shell.execute_reply": "2025-01-07T18:44:24.118010Z",
     "shell.execute_reply.started": "2025-01-07T18:44:24.115334Z"
    }
   },
   "outputs": [
    {
     "data": {
      "text/plain": [
       "250.0"
      ]
     },
     "execution_count": 34,
     "metadata": {},
     "output_type": "execute_result"
    }
   ],
   "source": [
    "C12 = k33[1] * delr * delc / 10.\n",
    "C12"
   ]
  },
  {
   "cell_type": "code",
   "execution_count": 35,
   "metadata": {
    "execution": {
     "iopub.execute_input": "2025-01-07T18:44:24.119204Z",
     "iopub.status.busy": "2025-01-07T18:44:24.119097Z",
     "iopub.status.idle": "2025-01-07T18:44:24.122227Z",
     "shell.execute_reply": "2025-01-07T18:44:24.121577Z",
     "shell.execute_reply.started": "2025-01-07T18:44:24.119193Z"
    }
   },
   "outputs": [
    {
     "data": {
      "text/plain": [
       "np.float64(579.9636159970731)"
      ]
     },
     "execution_count": 35,
     "metadata": {},
     "output_type": "execute_result"
    }
   ],
   "source": [
    "Q12 = C12 * (hds[1, 0, -1] - hds[0, 0, -1])\n",
    "Q12"
   ]
  },
  {
   "cell_type": "code",
   "execution_count": 36,
   "metadata": {
    "execution": {
     "iopub.execute_input": "2025-01-07T18:44:24.123002Z",
     "iopub.status.busy": "2025-01-07T18:44:24.122889Z",
     "iopub.status.idle": "2025-01-07T18:44:24.126253Z",
     "shell.execute_reply": "2025-01-07T18:44:24.125797Z",
     "shell.execute_reply.started": "2025-01-07T18:44:24.122991Z"
    }
   },
   "outputs": [
    {
     "data": {
      "text/plain": [
       "np.float64(97059.49210620123)"
      ]
     },
     "execution_count": 36,
     "metadata": {},
     "output_type": "execute_result"
    }
   ],
   "source": [
    "21 * (Q + Q12)"
   ]
  },
  {
   "cell_type": "markdown",
   "metadata": {},
   "source": [
    "### Exercise 2\n",
    "\n",
    "Load the budget flows from the cbc file. The cell-by-cell file can be loaded with the `gwf.output.budget().get_data()` method. "
   ]
  },
  {
   "cell_type": "code",
   "execution_count": 37,
   "metadata": {
    "execution": {
     "iopub.execute_input": "2025-01-07T18:44:24.126895Z",
     "iopub.status.busy": "2025-01-07T18:44:24.126774Z",
     "iopub.status.idle": "2025-01-07T18:44:24.131065Z",
     "shell.execute_reply": "2025-01-07T18:44:24.130725Z",
     "shell.execute_reply.started": "2025-01-07T18:44:24.126881Z"
    }
   },
   "outputs": [],
   "source": [
    "hds = gwf.output.head().get_data()"
   ]
  },
  {
   "cell_type": "markdown",
   "metadata": {},
   "source": [
    "The unique records in the cell budget file can be determined using `.headers[[\"text\", \"imeth\"]].drop_duplicates()`."
   ]
  },
  {
   "cell_type": "code",
   "execution_count": 38,
   "metadata": {
    "execution": {
     "iopub.execute_input": "2025-01-07T18:44:24.132077Z",
     "iopub.status.busy": "2025-01-07T18:44:24.131805Z",
     "iopub.status.idle": "2025-01-07T18:44:24.138577Z",
     "shell.execute_reply": "2025-01-07T18:44:24.138216Z",
     "shell.execute_reply.started": "2025-01-07T18:44:24.132061Z"
    }
   },
   "outputs": [
    {
     "data": {
      "text/html": [
       "<div>\n",
       "<style scoped>\n",
       "    .dataframe tbody tr th:only-of-type {\n",
       "        vertical-align: middle;\n",
       "    }\n",
       "\n",
       "    .dataframe tbody tr th {\n",
       "        vertical-align: top;\n",
       "    }\n",
       "\n",
       "    .dataframe thead th {\n",
       "        text-align: right;\n",
       "    }\n",
       "</style>\n",
       "<table border=\"1\" class=\"dataframe\">\n",
       "  <thead>\n",
       "    <tr style=\"text-align: right;\">\n",
       "      <th></th>\n",
       "      <th>text</th>\n",
       "      <th>imeth</th>\n",
       "    </tr>\n",
       "  </thead>\n",
       "  <tbody>\n",
       "    <tr>\n",
       "      <th>64</th>\n",
       "      <td>FLOW-JA-FACE</td>\n",
       "      <td>1</td>\n",
       "    </tr>\n",
       "    <tr>\n",
       "      <th>62064</th>\n",
       "      <td>DATA-SPDIS</td>\n",
       "      <td>6</td>\n",
       "    </tr>\n",
       "    <tr>\n",
       "      <th>112648</th>\n",
       "      <td>CHD</td>\n",
       "      <td>6</td>\n",
       "    </tr>\n",
       "  </tbody>\n",
       "</table>\n",
       "</div>"
      ],
      "text/plain": [
       "                text  imeth\n",
       "64      FLOW-JA-FACE      1\n",
       "62064     DATA-SPDIS      6\n",
       "112648           CHD      6"
      ]
     },
     "execution_count": 38,
     "metadata": {},
     "output_type": "execute_result"
    }
   ],
   "source": [
    "gwf.output.budget().headers[[\"text\", \"imeth\"]].drop_duplicates()"
   ]
  },
  {
   "cell_type": "markdown",
   "metadata": {},
   "source": [
    "Retrieve the `'DATA-SPDIS'` data type from the cell-by-cell file. Name the specific discharge data `spd`.\n",
    "\n",
    "Cell-by-cell data is returned as a list so access the data by using `spd = gwf.output.budget().get_data(text=\"DATA-SPDIS\")[0]`."
   ]
  },
  {
   "cell_type": "code",
   "execution_count": 39,
   "metadata": {
    "execution": {
     "iopub.execute_input": "2025-01-07T18:44:24.139290Z",
     "iopub.status.busy": "2025-01-07T18:44:24.139148Z",
     "iopub.status.idle": "2025-01-07T18:44:24.144190Z",
     "shell.execute_reply": "2025-01-07T18:44:24.143917Z",
     "shell.execute_reply.started": "2025-01-07T18:44:24.139275Z"
    }
   },
   "outputs": [],
   "source": [
    "spd = gwf.output.budget().get_data(text=\"DATA-SPDIS\")[0]"
   ]
  },
  {
   "cell_type": "markdown",
   "metadata": {},
   "source": [
    "Plot the results using `flopy.plot.PlotMapView()`. The head results can be plotted using the `.plot_array()` method. The discharge results can be plotted using the `plot_specific_discharge()` method. Boundary conditions can be plotted using the `.plot_bc()` method."
   ]
  },
  {
   "cell_type": "code",
   "execution_count": 40,
   "metadata": {
    "execution": {
     "iopub.execute_input": "2025-01-07T18:44:24.144792Z",
     "iopub.status.busy": "2025-01-07T18:44:24.144701Z",
     "iopub.status.idle": "2025-01-07T18:44:24.295393Z",
     "shell.execute_reply": "2025-01-07T18:44:24.294937Z",
     "shell.execute_reply.started": "2025-01-07T18:44:24.144781Z"
    }
   },
   "outputs": [
    {
     "data": {
      "text/plain": [
       "<matplotlib.collections.PatchCollection at 0x155266d10>"
      ]
     },
     "execution_count": 40,
     "metadata": {},
     "output_type": "execute_result"
    },
    {
     "data": {
      "image/png": "[encoded data removed]",
      "text/plain": [
       "<Figure size 640x480 with 1 Axes>"
      ]
     },
     "metadata": {},
     "output_type": "display_data"
    }
   ],
   "source": [
    "xs = flopy.plot.PlotCrossSection(model=gwf, line={\"row\": 10})\n",
    "cbv = xs.plot_array(hds, head=hds)\n",
    "q = xs.plot_vector(spd[\"qx\"], spd[\"qy\"], spd[\"qz\"], normalize=True)\n",
    "xs.plot_bc(\"CHD\")\n",
    "xs.plot_bc(\"CHD\")\n",
    "xs.plot_grid(lw=0.5, color=\"black\")"
   ]
  },
  {
   "cell_type": "markdown",
   "metadata": {},
   "source": [
    "### Exercise 3"
   ]
  },
  {
   "cell_type": "code",
   "execution_count": 41,
   "metadata": {
    "execution": {
     "iopub.execute_input": "2025-01-07T18:44:24.296106Z",
     "iopub.status.busy": "2025-01-07T18:44:24.295992Z",
     "iopub.status.idle": "2025-01-07T18:44:24.299258Z",
     "shell.execute_reply": "2025-01-07T18:44:24.298754Z",
     "shell.execute_reply.started": "2025-01-07T18:44:24.296095Z"
    }
   },
   "outputs": [
    {
     "data": {
      "text/plain": [
       "array([-0.39414495, -0.22856331, -0.06363609])"
      ]
     },
     "execution_count": 41,
     "metadata": {},
     "output_type": "execute_result"
    }
   ],
   "source": [
    "hd = hds[:, 0, 10] - hds[:, 0, 9]\n",
    "hd"
   ]
  },
  {
   "cell_type": "code",
   "execution_count": 42,
   "metadata": {
    "execution": {
     "iopub.execute_input": "2025-01-07T18:44:24.300254Z",
     "iopub.status.busy": "2025-01-07T18:44:24.299869Z",
     "iopub.status.idle": "2025-01-07T18:44:24.303534Z",
     "shell.execute_reply": "2025-01-07T18:44:24.303172Z",
     "shell.execute_reply.started": "2025-01-07T18:44:24.300240Z"
    }
   },
   "outputs": [
    {
     "data": {
      "text/plain": [
       "[np.float64(105.09982675880622), 20, 200]"
      ]
     },
     "execution_count": 42,
     "metadata": {},
     "output_type": "execute_result"
    }
   ],
   "source": [
    "b = [hds[0, 0, 9:11].mean() - botm[0], botm[0] - botm[1], botm[1] - botm[2]]\n",
    "b"
   ]
  },
  {
   "cell_type": "code",
   "execution_count": 43,
   "metadata": {
    "execution": {
     "iopub.execute_input": "2025-01-07T18:44:24.304239Z",
     "iopub.status.busy": "2025-01-07T18:44:24.304080Z",
     "iopub.status.idle": "2025-01-07T18:44:24.307438Z",
     "shell.execute_reply": "2025-01-07T18:44:24.306876Z",
     "shell.execute_reply.started": "2025-01-07T18:44:24.304228Z"
    }
   },
   "outputs": [
    {
     "data": {
      "text/plain": [
       "array([-2.07122832e+03, -4.57126627e-02, -2.54544360e+03])"
      ]
     },
     "execution_count": 43,
     "metadata": {},
     "output_type": "execute_result"
    }
   ],
   "source": [
    "Q = np.array(k) * b * delc * hd / delr\n",
    "Q"
   ]
  },
  {
   "cell_type": "code",
   "execution_count": 44,
   "metadata": {
    "execution": {
     "iopub.execute_input": "2025-01-07T18:44:24.308285Z",
     "iopub.status.busy": "2025-01-07T18:44:24.308162Z",
     "iopub.status.idle": "2025-01-07T18:44:24.311324Z",
     "shell.execute_reply": "2025-01-07T18:44:24.310771Z",
     "shell.execute_reply.started": "2025-01-07T18:44:24.308274Z"
    }
   },
   "outputs": [
    {
     "data": {
      "text/plain": [
       "array([-4.34957947e+04, -9.59965917e-01, -5.34543156e+04])"
      ]
     },
     "execution_count": 44,
     "metadata": {},
     "output_type": "execute_result"
    }
   ],
   "source": [
    "Q * 21"
   ]
  },
  {
   "cell_type": "markdown",
   "metadata": {},
   "source": [
    "### Exercise 4"
   ]
  },
  {
   "cell_type": "code",
   "execution_count": 45,
   "metadata": {
    "execution": {
     "iopub.execute_input": "2025-01-07T18:44:24.312065Z",
     "iopub.status.busy": "2025-01-07T18:44:24.311953Z",
     "iopub.status.idle": "2025-01-07T18:44:24.314393Z",
     "shell.execute_reply": "2025-01-07T18:44:24.313915Z",
     "shell.execute_reply.started": "2025-01-07T18:44:24.312055Z"
    }
   },
   "outputs": [],
   "source": [
    "C23 = k33[1] * delr * delc / 10."
   ]
  },
  {
   "cell_type": "code",
   "execution_count": 46,
   "metadata": {
    "execution": {
     "iopub.execute_input": "2025-01-07T18:44:24.315117Z",
     "iopub.status.busy": "2025-01-07T18:44:24.315009Z",
     "iopub.status.idle": "2025-01-07T18:44:24.318644Z",
     "shell.execute_reply": "2025-01-07T18:44:24.318062Z",
     "shell.execute_reply.started": "2025-01-07T18:44:24.315107Z"
    }
   },
   "outputs": [
    {
     "data": {
      "text/plain": [
       "array([ 2.24008889,  1.87765323,  1.56129441,  1.28367192,  1.03806376,\n",
       "        0.8184352 ,  0.61930294,  0.43561658,  0.26265366,  0.09590926,\n",
       "       -0.06901796, -0.2365409 , -0.41120294, -0.59780582, -0.8015514 ,\n",
       "       -1.02820364, -1.28427886, -1.57726614, -1.91590348, -2.31032915])"
      ]
     },
     "execution_count": 46,
     "metadata": {},
     "output_type": "execute_result"
    }
   ],
   "source": [
    "hd = hds[1, 0, :] - hds[2, 0, :]\n",
    "hd"
   ]
  },
  {
   "cell_type": "code",
   "execution_count": 47,
   "metadata": {
    "execution": {
     "iopub.execute_input": "2025-01-07T18:44:24.319459Z",
     "iopub.status.busy": "2025-01-07T18:44:24.319345Z",
     "iopub.status.idle": "2025-01-07T18:44:24.322603Z",
     "shell.execute_reply": "2025-01-07T18:44:24.322147Z",
     "shell.execute_reply.started": "2025-01-07T18:44:24.319449Z"
    }
   },
   "outputs": [
    {
     "data": {
      "text/plain": [
       "array([ 560.02222155,  469.41330847,  390.32360218,  320.91798046,\n",
       "        259.51594087,  204.60880103,  154.82573601,  108.90414615,\n",
       "         65.66341458,   23.97731617,  -17.25448972,  -59.13522605,\n",
       "       -102.80073581, -149.4514557 , -200.38785091, -257.05091044,\n",
       "       -321.06971509, -394.31653403, -478.97587114, -577.58228647])"
      ]
     },
     "execution_count": 47,
     "metadata": {},
     "output_type": "execute_result"
    }
   ],
   "source": [
    "Q23 = C23 * hd\n",
    "Q23"
   ]
  },
  {
   "cell_type": "code",
   "execution_count": 48,
   "metadata": {
    "execution": {
     "iopub.execute_input": "2025-01-07T18:44:24.323297Z",
     "iopub.status.busy": "2025-01-07T18:44:24.323200Z",
     "iopub.status.idle": "2025-01-07T18:44:24.326649Z",
     "shell.execute_reply": "2025-01-07T18:44:24.326199Z",
     "shell.execute_reply.started": "2025-01-07T18:44:24.323287Z"
    }
   },
   "outputs": [
    {
     "data": {
      "text/plain": [
       "np.float64(53721.62181702222)"
      ]
     },
     "execution_count": 48,
     "metadata": {},
     "output_type": "execute_result"
    }
   ],
   "source": [
    "Qup = 21 * Q23[:10].sum()\n",
    "Qup"
   ]
  },
  {
   "cell_type": "code",
   "execution_count": 49,
   "metadata": {
    "execution": {
     "iopub.execute_input": "2025-01-07T18:44:24.327173Z",
     "iopub.status.busy": "2025-01-07T18:44:24.327071Z",
     "iopub.status.idle": "2025-01-07T18:44:24.330515Z",
     "shell.execute_reply": "2025-01-07T18:44:24.329999Z",
     "shell.execute_reply.started": "2025-01-07T18:44:24.327162Z"
    }
   },
   "outputs": [
    {
     "data": {
      "text/plain": [
       "np.float64(-53718.52658278844)"
      ]
     },
     "execution_count": 49,
     "metadata": {},
     "output_type": "execute_result"
    }
   ],
   "source": [
    "Qdown = 21 * Q23[10:].sum()\n",
    "Qdown"
   ]
  },
  {
   "cell_type": "markdown",
   "metadata": {},
   "source": [
    "## PS1B\n",
    "\n",
    "Double the Hydraulic Conductivity"
   ]
  },
  {
   "cell_type": "code",
   "execution_count": 50,
   "metadata": {
    "execution": {
     "iopub.execute_input": "2025-01-07T18:44:24.331628Z",
     "iopub.status.busy": "2025-01-07T18:44:24.331283Z",
     "iopub.status.idle": "2025-01-07T18:44:24.333920Z",
     "shell.execute_reply": "2025-01-07T18:44:24.333361Z",
     "shell.execute_reply.started": "2025-01-07T18:44:24.331614Z"
    }
   },
   "outputs": [],
   "source": [
    "ws = pl.Path(\"PS1b\")"
   ]
  },
  {
   "cell_type": "code",
   "execution_count": 51,
   "metadata": {
    "execution": {
     "iopub.execute_input": "2025-01-07T18:44:24.334513Z",
     "iopub.status.busy": "2025-01-07T18:44:24.334379Z",
     "iopub.status.idle": "2025-01-07T18:44:24.336769Z",
     "shell.execute_reply": "2025-01-07T18:44:24.336386Z",
     "shell.execute_reply.started": "2025-01-07T18:44:24.334503Z"
    }
   },
   "outputs": [],
   "source": [
    "sim.set_sim_path(ws)"
   ]
  },
  {
   "cell_type": "code",
   "execution_count": 52,
   "metadata": {
    "execution": {
     "iopub.execute_input": "2025-01-07T18:44:24.337377Z",
     "iopub.status.busy": "2025-01-07T18:44:24.337266Z",
     "iopub.status.idle": "2025-01-07T18:44:24.339739Z",
     "shell.execute_reply": "2025-01-07T18:44:24.339227Z",
     "shell.execute_reply.started": "2025-01-07T18:44:24.337367Z"
    }
   },
   "outputs": [],
   "source": [
    "k = [100, 0.02, 400]\n",
    "k33 = [20, 0.02, 40]"
   ]
  },
  {
   "cell_type": "code",
   "execution_count": 53,
   "metadata": {
    "execution": {
     "iopub.execute_input": "2025-01-07T18:44:24.340485Z",
     "iopub.status.busy": "2025-01-07T18:44:24.340264Z",
     "iopub.status.idle": "2025-01-07T18:44:24.345308Z",
     "shell.execute_reply": "2025-01-07T18:44:24.344782Z",
     "shell.execute_reply.started": "2025-01-07T18:44:24.340468Z"
    }
   },
   "outputs": [
    {
     "name": "stdout",
     "output_type": "stream",
     "text": [
      "WARNING: Package with type npf already exists. Replacing existing package.\n"
     ]
    }
   ],
   "source": [
    "npf = flopy.mf6.ModflowGwfnpf(gwf, save_specific_discharge=True, icelltype=icelltype, k=k, k33=k33)"
   ]
  },
  {
   "cell_type": "code",
   "execution_count": 54,
   "metadata": {
    "execution": {
     "iopub.execute_input": "2025-01-07T18:44:24.346356Z",
     "iopub.status.busy": "2025-01-07T18:44:24.346174Z",
     "iopub.status.idle": "2025-01-07T18:44:24.404178Z",
     "shell.execute_reply": "2025-01-07T18:44:24.403863Z",
     "shell.execute_reply.started": "2025-01-07T18:44:24.346339Z"
    }
   },
   "outputs": [
    {
     "name": "stdout",
     "output_type": "stream",
     "text": [
      "writing simulation...\n",
      "  writing simulation name file...\n",
      "  writing simulation tdis package...\n",
      "  writing solution package ims_-1...\n",
      "  writing model ps1...\n",
      "    writing model name file...\n",
      "    writing package dis...\n",
      "    writing package ic...\n",
      "    writing package river...\n",
      "    writing package canal...\n",
      "    writing package oc...\n",
      "    writing package npf...\n"
     ]
    }
   ],
   "source": [
    "sim.write_simulation()"
   ]
  },
  {
   "cell_type": "code",
   "execution_count": 55,
   "metadata": {
    "execution": {
     "iopub.execute_input": "2025-01-07T18:44:24.404976Z",
     "iopub.status.busy": "2025-01-07T18:44:24.404827Z",
     "iopub.status.idle": "2025-01-07T18:44:24.525655Z",
     "shell.execute_reply": "2025-01-07T18:44:24.525283Z",
     "shell.execute_reply.started": "2025-01-07T18:44:24.404964Z"
    }
   },
   "outputs": [
    {
     "name": "stdout",
     "output_type": "stream",
     "text": [
      "FloPy is using the following executable to run the model: ../../../../../../miniforge3/envs/gw3099/bin/mf6\n",
      "                                   MODFLOW 6\n",
      "                U.S. GEOLOGICAL SURVEY MODULAR HYDROLOGIC MODEL\n",
      "                  VERSION 6.6.0.dev0 (preliminary) 12/05/2024\n",
      "                               ***DEVELOP MODE***\n",
      "\n",
      "        MODFLOW 6 compiled Dec  5 2024 13:34:29 with GCC version 13.3.0\n",
      "\n",
      "This software is preliminary or provisional and is subject to \n",
      "revision. It is being provided to meet the need for timely best \n",
      "science. The software has not received final approval by the U.S. \n",
      "Geological Survey (USGS). No warranty, expressed or implied, is made \n",
      "by the USGS or the U.S. Government as to the functionality of the \n",
      "software and related material nor shall the fact of release \n",
      "constitute any such warranty. The software is provided on the \n",
      "condition that neither the USGS nor the U.S. Government shall be held \n",
      "liable for any damages resulting from the authorized or unauthorized \n",
      "use of the software.\n",
      "\n",
      "\n",
      " MODFLOW runs in SEQUENTIAL mode\n",
      "\n",
      " Run start date and time (yyyy/mm/dd hh:mm:ss): 2025/01/07 10:44:24\n",
      "\n",
      " Writing simulation list file: mfsim.lst\n",
      " Using Simulation name file: mfsim.nam\n",
      "\n",
      "    Solving:  Stress period:     1    Time step:     1\n",
      "\n",
      " Run end date and time (yyyy/mm/dd hh:mm:ss): 2025/01/07 10:44:24\n",
      " Elapsed run time:  0.085 Seconds\n",
      "\n",
      " Normal termination of simulation.\n"
     ]
    },
    {
     "data": {
      "text/plain": [
       "(True, [])"
      ]
     },
     "execution_count": 55,
     "metadata": {},
     "output_type": "execute_result"
    }
   ],
   "source": [
    "sim.run_simulation()"
   ]
  },
  {
   "cell_type": "markdown",
   "metadata": {},
   "source": [
    "### How much water is leaving canal"
   ]
  },
  {
   "cell_type": "code",
   "execution_count": 56,
   "metadata": {
    "execution": {
     "iopub.execute_input": "2025-01-07T18:44:24.526571Z",
     "iopub.status.busy": "2025-01-07T18:44:24.526436Z",
     "iopub.status.idle": "2025-01-07T18:44:24.545860Z",
     "shell.execute_reply": "2025-01-07T18:44:24.545568Z",
     "shell.execute_reply.started": "2025-01-07T18:44:24.526560Z"
    }
   },
   "outputs": [
    {
     "data": {
      "text/html": [
       "<div>\n",
       "<style scoped>\n",
       "    .dataframe tbody tr th:only-of-type {\n",
       "        vertical-align: middle;\n",
       "    }\n",
       "\n",
       "    .dataframe tbody tr th {\n",
       "        vertical-align: top;\n",
       "    }\n",
       "\n",
       "    .dataframe thead th {\n",
       "        text-align: right;\n",
       "    }\n",
       "</style>\n",
       "<table border=\"1\" class=\"dataframe\">\n",
       "  <thead>\n",
       "    <tr style=\"text-align: right;\">\n",
       "      <th></th>\n",
       "      <th>CHD_IN</th>\n",
       "      <th>CHD2_IN</th>\n",
       "      <th>TOTAL_IN</th>\n",
       "      <th>CHD_OUT</th>\n",
       "      <th>CHD2_OUT</th>\n",
       "      <th>TOTAL_OUT</th>\n",
       "      <th>IN-OUT</th>\n",
       "      <th>PERCENT_DISCREPANCY</th>\n",
       "    </tr>\n",
       "  </thead>\n",
       "  <tbody>\n",
       "    <tr>\n",
       "      <th>1971-01-01</th>\n",
       "      <td>193902.984375</td>\n",
       "      <td>0.0</td>\n",
       "      <td>193902.984375</td>\n",
       "      <td>0.0</td>\n",
       "      <td>193898.109375</td>\n",
       "      <td>193898.109375</td>\n",
       "      <td>4.8753</td>\n",
       "      <td>0.0</td>\n",
       "    </tr>\n",
       "  </tbody>\n",
       "</table>\n",
       "</div>"
      ],
      "text/plain": [
       "                   CHD_IN  CHD2_IN       TOTAL_IN  CHD_OUT       CHD2_OUT  \\\n",
       "1971-01-01  193902.984375      0.0  193902.984375      0.0  193898.109375   \n",
       "\n",
       "                TOTAL_OUT  IN-OUT  PERCENT_DISCREPANCY  \n",
       "1971-01-01  193898.109375  4.8753                  0.0  "
      ]
     },
     "execution_count": 56,
     "metadata": {},
     "output_type": "execute_result"
    }
   ],
   "source": [
    "gwf.output.list().get_dataframes()[0]"
   ]
  },
  {
   "cell_type": "code",
   "execution_count": 57,
   "metadata": {
    "execution": {
     "iopub.execute_input": "2025-01-07T18:44:24.546500Z",
     "iopub.status.busy": "2025-01-07T18:44:24.546406Z",
     "iopub.status.idle": "2025-01-07T18:44:24.551350Z",
     "shell.execute_reply": "2025-01-07T18:44:24.550887Z",
     "shell.execute_reply.started": "2025-01-07T18:44:24.546490Z"
    }
   },
   "outputs": [
    {
     "data": {
      "text/html": [
       "<div>\n",
       "<style scoped>\n",
       "    .dataframe tbody tr th:only-of-type {\n",
       "        vertical-align: middle;\n",
       "    }\n",
       "\n",
       "    .dataframe tbody tr th {\n",
       "        vertical-align: top;\n",
       "    }\n",
       "\n",
       "    .dataframe thead th {\n",
       "        text-align: right;\n",
       "    }\n",
       "</style>\n",
       "<table border=\"1\" class=\"dataframe\">\n",
       "  <thead>\n",
       "    <tr style=\"text-align: right;\">\n",
       "      <th></th>\n",
       "      <th>CHD_IN</th>\n",
       "      <th>CHD2_IN</th>\n",
       "      <th>TOTAL_IN</th>\n",
       "      <th>CHD_OUT</th>\n",
       "      <th>CHD2_OUT</th>\n",
       "      <th>TOTAL_OUT</th>\n",
       "      <th>IN-OUT</th>\n",
       "      <th>PERCENT_DISCREPANCY</th>\n",
       "    </tr>\n",
       "  </thead>\n",
       "  <tbody>\n",
       "    <tr>\n",
       "      <th>1971-01-01</th>\n",
       "      <td>0.0</td>\n",
       "      <td>96951.539062</td>\n",
       "      <td>96951.539062</td>\n",
       "      <td>96949.4375</td>\n",
       "      <td>0.0</td>\n",
       "      <td>96949.4375</td>\n",
       "      <td>2.1017</td>\n",
       "      <td>0.0</td>\n",
       "    </tr>\n",
       "  </tbody>\n",
       "</table>\n",
       "</div>"
      ],
      "text/plain": [
       "            CHD_IN       CHD2_IN      TOTAL_IN     CHD_OUT  CHD2_OUT  \\\n",
       "1971-01-01     0.0  96951.539062  96951.539062  96949.4375       0.0   \n",
       "\n",
       "             TOTAL_OUT  IN-OUT  PERCENT_DISCREPANCY  \n",
       "1971-01-01  96949.4375  2.1017                  0.0  "
      ]
     },
     "execution_count": 57,
     "metadata": {},
     "output_type": "execute_result"
    }
   ],
   "source": [
    "# PS1a water budget\n",
    "ds"
   ]
  },
  {
   "cell_type": "markdown",
   "metadata": {},
   "source": [
    "### How are heads affected"
   ]
  },
  {
   "cell_type": "code",
   "execution_count": 58,
   "metadata": {
    "execution": {
     "iopub.execute_input": "2025-01-07T18:44:24.552373Z",
     "iopub.status.busy": "2025-01-07T18:44:24.552009Z",
     "iopub.status.idle": "2025-01-07T18:44:24.556351Z",
     "shell.execute_reply": "2025-01-07T18:44:24.555891Z",
     "shell.execute_reply.started": "2025-01-07T18:44:24.552359Z"
    }
   },
   "outputs": [],
   "source": [
    "hds1b = gwf.output.head().get_data()"
   ]
  },
  {
   "cell_type": "code",
   "execution_count": 59,
   "metadata": {
    "execution": {
     "iopub.execute_input": "2025-01-07T18:44:24.557136Z",
     "iopub.status.busy": "2025-01-07T18:44:24.556960Z",
     "iopub.status.idle": "2025-01-07T18:44:24.560420Z",
     "shell.execute_reply": "2025-01-07T18:44:24.559978Z",
     "shell.execute_reply.started": "2025-01-07T18:44:24.557120Z"
    }
   },
   "outputs": [
    {
     "data": {
      "text/plain": [
       "array([330.        , 329.25942071, 328.59984186, 328.00817452,\n",
       "       327.47268939, 326.98280649, 326.52890084, 326.10209737,\n",
       "       325.69407656, 325.29688533, 324.90273927, 324.50382073,\n",
       "       324.09206763, 323.65894419, 323.19518544, 322.69050612,\n",
       "       322.13326054, 321.5100332 , 320.80513768, 320.        ])"
      ]
     },
     "execution_count": 59,
     "metadata": {},
     "output_type": "execute_result"
    }
   ],
   "source": [
    "hds1b[0, 0, :]"
   ]
  },
  {
   "cell_type": "code",
   "execution_count": 60,
   "metadata": {
    "execution": {
     "iopub.execute_input": "2025-01-07T18:44:24.561293Z",
     "iopub.status.busy": "2025-01-07T18:44:24.561152Z",
     "iopub.status.idle": "2025-01-07T18:44:24.564471Z",
     "shell.execute_reply": "2025-01-07T18:44:24.564069Z",
     "shell.execute_reply.started": "2025-01-07T18:44:24.561281Z"
    }
   },
   "outputs": [
    {
     "data": {
      "text/plain": [
       "array([330.        , 329.25942191, 328.59984434, 328.00817433,\n",
       "       327.47268975, 326.98281118, 326.52890663, 326.10210529,\n",
       "       325.69408801, 325.29689924, 324.90275428, 324.50383646,\n",
       "       324.09208382, 323.65895973, 323.19519864, 322.6905155 ,\n",
       "       322.13326603, 321.5100372 , 320.80514212, 320.        ])"
      ]
     },
     "execution_count": 60,
     "metadata": {},
     "output_type": "execute_result"
    }
   ],
   "source": [
    "# PS1a kayer 1 heads\n",
    "hds[0, 0, :]"
   ]
  },
  {
   "cell_type": "code",
   "execution_count": 61,
   "metadata": {
    "execution": {
     "iopub.execute_input": "2025-01-07T18:44:24.565340Z",
     "iopub.status.busy": "2025-01-07T18:44:24.565229Z",
     "iopub.status.idle": "2025-01-07T18:44:24.568376Z",
     "shell.execute_reply": "2025-01-07T18:44:24.567760Z",
     "shell.execute_reply.started": "2025-01-07T18:44:24.565329Z"
    }
   },
   "outputs": [
    {
     "data": {
      "text/plain": [
       "array([ 0.00000000e+00, -1.19844037e-06, -2.47517261e-06,  1.97056693e-07,\n",
       "       -3.55682346e-07, -4.69740223e-06, -5.78800143e-06, -7.92666282e-06,\n",
       "       -1.14528020e-05, -1.39032455e-05, -1.50130175e-05, -1.57359112e-05,\n",
       "       -1.61945227e-05, -1.55424127e-05, -1.31944251e-05, -9.38226316e-06,\n",
       "       -5.48581772e-06, -4.00451142e-06, -4.44713663e-06,  0.00000000e+00])"
      ]
     },
     "execution_count": 61,
     "metadata": {},
     "output_type": "execute_result"
    }
   ],
   "source": [
    "# Head difference\n",
    "hds1b[0, 0, :] - hds[0, 0, :]"
   ]
  },
  {
   "cell_type": "code",
   "execution_count": 62,
   "metadata": {
    "execution": {
     "iopub.execute_input": "2025-01-07T18:44:24.569238Z",
     "iopub.status.busy": "2025-01-07T18:44:24.569133Z",
     "iopub.status.idle": "2025-01-07T18:44:24.572410Z",
     "shell.execute_reply": "2025-01-07T18:44:24.571912Z",
     "shell.execute_reply.started": "2025-01-07T18:44:24.569229Z"
    }
   },
   "outputs": [
    {
     "data": {
      "text/plain": [
       "array([327.75069193, 327.37432391, 327.03235923, 326.71941473,\n",
       "       326.43050731, 326.16112519, 325.90714508, 325.66475813,\n",
       "       325.43038767, 325.20060391, 324.97204081, 324.74131084,\n",
       "       324.5049133 , 324.25913327, 323.99992874, 323.72280191,\n",
       "       323.42264745, 323.09356279, 322.7286442 , 322.31986071])"
      ]
     },
     "execution_count": 62,
     "metadata": {},
     "output_type": "execute_result"
    }
   ],
   "source": [
    "hds1b[1, 0, :]"
   ]
  },
  {
   "cell_type": "code",
   "execution_count": 63,
   "metadata": {
    "execution": {
     "iopub.execute_input": "2025-01-07T18:44:24.573053Z",
     "iopub.status.busy": "2025-01-07T18:44:24.572959Z",
     "iopub.status.idle": "2025-01-07T18:44:24.575947Z",
     "shell.execute_reply": "2025-01-07T18:44:24.575425Z",
     "shell.execute_reply.started": "2025-01-07T18:44:24.573044Z"
    }
   },
   "outputs": [
    {
     "data": {
      "text/plain": [
       "array([327.75069153, 327.37432502, 327.03235786, 326.71941741,\n",
       "       326.43050819, 326.16112295, 325.90714429, 325.66476024,\n",
       "       325.4303907 , 325.20060645, 324.97204314, 324.74131357,\n",
       "       324.50491623, 324.25913563, 323.9999304 , 323.72280367,\n",
       "       323.42264865, 323.0935688 , 322.72864819, 322.31985446])"
      ]
     },
     "execution_count": 63,
     "metadata": {},
     "output_type": "execute_result"
    }
   ],
   "source": [
    "# PS1a layer 2 heads\n",
    "hds[1, 0, :]"
   ]
  },
  {
   "cell_type": "code",
   "execution_count": 64,
   "metadata": {
    "execution": {
     "iopub.execute_input": "2025-01-07T18:44:24.576760Z",
     "iopub.status.busy": "2025-01-07T18:44:24.576644Z",
     "iopub.status.idle": "2025-01-07T18:44:24.584780Z",
     "shell.execute_reply": "2025-01-07T18:44:24.584504Z",
     "shell.execute_reply.started": "2025-01-07T18:44:24.576749Z"
    }
   },
   "outputs": [
    {
     "data": {
      "text/plain": [
       "array([ 3.94674316e-07, -1.11219282e-06,  1.37483300e-06, -2.68195544e-06,\n",
       "       -8.79143954e-07,  2.24611688e-06,  7.86676537e-07, -2.11550139e-06,\n",
       "       -3.03463145e-06, -2.54079129e-06, -2.32850022e-06, -2.72968936e-06,\n",
       "       -2.93716118e-06, -2.36457868e-06, -1.66001712e-06, -1.75952084e-06,\n",
       "       -1.20267123e-06, -6.00121166e-06, -3.99143954e-06,  6.24825702e-06])"
      ]
     },
     "execution_count": 64,
     "metadata": {},
     "output_type": "execute_result"
    }
   ],
   "source": [
    "# head difference\n",
    "hds1b[1, 0, :] - hds[1, 0, :]"
   ]
  },
  {
   "cell_type": "markdown",
   "metadata": {},
   "source": [
    "## PS1C\n",
    "\n",
    "Change the horizontal and vertical conductivity of the silt layer"
   ]
  },
  {
   "cell_type": "code",
   "execution_count": 65,
   "metadata": {
    "execution": {
     "iopub.execute_input": "2025-01-07T18:44:24.585478Z",
     "iopub.status.busy": "2025-01-07T18:44:24.585358Z",
     "iopub.status.idle": "2025-01-07T18:44:24.611590Z",
     "shell.execute_reply": "2025-01-07T18:44:24.611308Z",
     "shell.execute_reply.started": "2025-01-07T18:44:24.585465Z"
    }
   },
   "outputs": [
    {
     "name": "stdout",
     "output_type": "stream",
     "text": [
      "loading simulation...\n",
      "  loading simulation name file...\n",
      "  loading tdis package...\n",
      "  loading model gwf6...\n",
      "    loading package dis...\n",
      "    loading package ic...\n",
      "    loading package npf...\n",
      "    loading package chd...\n",
      "    loading package chd...\n",
      "    loading package oc...\n",
      "  loading solution package ps1...\n"
     ]
    }
   ],
   "source": [
    "sim = flopy.mf6.MFSimulation.load(sim_ws=\"PS1a\")"
   ]
  },
  {
   "cell_type": "code",
   "execution_count": 66,
   "metadata": {
    "execution": {
     "iopub.execute_input": "2025-01-07T18:44:24.612316Z",
     "iopub.status.busy": "2025-01-07T18:44:24.612186Z",
     "iopub.status.idle": "2025-01-07T18:44:24.615265Z",
     "shell.execute_reply": "2025-01-07T18:44:24.614858Z",
     "shell.execute_reply.started": "2025-01-07T18:44:24.612305Z"
    }
   },
   "outputs": [],
   "source": [
    "ws = pl.Path(\"PS1c\")\n",
    "sim.set_sim_path(ws)"
   ]
  },
  {
   "cell_type": "code",
   "execution_count": 67,
   "metadata": {
    "execution": {
     "iopub.execute_input": "2025-01-07T18:44:24.616461Z",
     "iopub.status.busy": "2025-01-07T18:44:24.616347Z",
     "iopub.status.idle": "2025-01-07T18:44:24.619033Z",
     "shell.execute_reply": "2025-01-07T18:44:24.618512Z",
     "shell.execute_reply.started": "2025-01-07T18:44:24.616450Z"
    }
   },
   "outputs": [],
   "source": [
    "gwf = sim.get_model()"
   ]
  },
  {
   "cell_type": "code",
   "execution_count": 68,
   "metadata": {
    "execution": {
     "iopub.execute_input": "2025-01-07T18:44:24.619728Z",
     "iopub.status.busy": "2025-01-07T18:44:24.619592Z",
     "iopub.status.idle": "2025-01-07T18:44:24.622069Z",
     "shell.execute_reply": "2025-01-07T18:44:24.621598Z",
     "shell.execute_reply.started": "2025-01-07T18:44:24.619717Z"
    }
   },
   "outputs": [],
   "source": [
    "k = [50, 0.0001, 200]\n",
    "k33 = [10, 0.0001, 20]"
   ]
  },
  {
   "cell_type": "code",
   "execution_count": 69,
   "metadata": {
    "execution": {
     "iopub.execute_input": "2025-01-07T18:44:24.623116Z",
     "iopub.status.busy": "2025-01-07T18:44:24.622815Z",
     "iopub.status.idle": "2025-01-07T18:44:24.627730Z",
     "shell.execute_reply": "2025-01-07T18:44:24.627351Z",
     "shell.execute_reply.started": "2025-01-07T18:44:24.623103Z"
    }
   },
   "outputs": [
    {
     "name": "stdout",
     "output_type": "stream",
     "text": [
      "WARNING: Package with type npf already exists. Replacing existing package.\n"
     ]
    }
   ],
   "source": [
    "npf = flopy.mf6.ModflowGwfnpf(gwf, save_specific_discharge=True, icelltype=icelltype, k=k, k33=k33)"
   ]
  },
  {
   "cell_type": "code",
   "execution_count": 70,
   "metadata": {
    "execution": {
     "iopub.execute_input": "2025-01-07T18:44:24.628499Z",
     "iopub.status.busy": "2025-01-07T18:44:24.628348Z",
     "iopub.status.idle": "2025-01-07T18:44:24.667759Z",
     "shell.execute_reply": "2025-01-07T18:44:24.667415Z",
     "shell.execute_reply.started": "2025-01-07T18:44:24.628483Z"
    }
   },
   "outputs": [
    {
     "name": "stdout",
     "output_type": "stream",
     "text": [
      "writing simulation...\n",
      "  writing simulation name file...\n",
      "  writing simulation tdis package...\n",
      "  writing solution package ps1...\n",
      "  writing model ps1...\n",
      "    writing model name file...\n",
      "    writing package dis...\n",
      "    writing package ic...\n",
      "    writing package river...\n",
      "    writing package canal...\n",
      "    writing package oc...\n",
      "    writing package npf...\n"
     ]
    }
   ],
   "source": [
    "sim.write_simulation()"
   ]
  },
  {
   "cell_type": "code",
   "execution_count": 71,
   "metadata": {
    "execution": {
     "iopub.execute_input": "2025-01-07T18:44:24.668574Z",
     "iopub.status.busy": "2025-01-07T18:44:24.668404Z",
     "iopub.status.idle": "2025-01-07T18:44:24.755742Z",
     "shell.execute_reply": "2025-01-07T18:44:24.755435Z",
     "shell.execute_reply.started": "2025-01-07T18:44:24.668563Z"
    }
   },
   "outputs": [
    {
     "name": "stdout",
     "output_type": "stream",
     "text": [
      "FloPy is using the following executable to run the model: ../../../../../../miniforge3/envs/gw3099/bin/mf6\n",
      "                                   MODFLOW 6\n",
      "                U.S. GEOLOGICAL SURVEY MODULAR HYDROLOGIC MODEL\n",
      "                  VERSION 6.6.0.dev0 (preliminary) 12/05/2024\n",
      "                               ***DEVELOP MODE***\n",
      "\n",
      "        MODFLOW 6 compiled Dec  5 2024 13:34:29 with GCC version 13.3.0\n",
      "\n",
      "This software is preliminary or provisional and is subject to \n",
      "revision. It is being provided to meet the need for timely best \n",
      "science. The software has not received final approval by the U.S. \n",
      "Geological Survey (USGS). No warranty, expressed or implied, is made \n",
      "by the USGS or the U.S. Government as to the functionality of the \n",
      "software and related material nor shall the fact of release \n",
      "constitute any such warranty. The software is provided on the \n",
      "condition that neither the USGS nor the U.S. Government shall be held \n",
      "liable for any damages resulting from the authorized or unauthorized \n",
      "use of the software.\n",
      "\n",
      "\n",
      " MODFLOW runs in SEQUENTIAL mode\n",
      "\n",
      " Run start date and time (yyyy/mm/dd hh:mm:ss): 2025/01/07 10:44:24\n",
      "\n",
      " Writing simulation list file: mfsim.lst\n",
      " Using Simulation name file: mfsim.nam\n",
      "\n",
      "    Solving:  Stress period:     1    Time step:     1\n",
      "\n",
      " Run end date and time (yyyy/mm/dd hh:mm:ss): 2025/01/07 10:44:24\n",
      " Elapsed run time:  0.064 Seconds\n",
      "\n",
      " Normal termination of simulation.\n"
     ]
    },
    {
     "data": {
      "text/plain": [
       "(True, [])"
      ]
     },
     "execution_count": 71,
     "metadata": {},
     "output_type": "execute_result"
    }
   ],
   "source": [
    "sim.run_simulation()"
   ]
  },
  {
   "cell_type": "markdown",
   "metadata": {},
   "source": [
    "### How are heads affected"
   ]
  },
  {
   "cell_type": "code",
   "execution_count": 72,
   "metadata": {
    "execution": {
     "iopub.execute_input": "2025-01-07T18:44:24.756527Z",
     "iopub.status.busy": "2025-01-07T18:44:24.756401Z",
     "iopub.status.idle": "2025-01-07T18:44:24.766634Z",
     "shell.execute_reply": "2025-01-07T18:44:24.766319Z",
     "shell.execute_reply.started": "2025-01-07T18:44:24.756516Z"
    }
   },
   "outputs": [],
   "source": [
    "hds1c = gwf.output.head().get_data()"
   ]
  },
  {
   "cell_type": "code",
   "execution_count": 73,
   "metadata": {
    "execution": {
     "iopub.execute_input": "2025-01-07T18:44:24.767310Z",
     "iopub.status.busy": "2025-01-07T18:44:24.767190Z",
     "iopub.status.idle": "2025-01-07T18:44:24.770412Z",
     "shell.execute_reply": "2025-01-07T18:44:24.769986Z",
     "shell.execute_reply.started": "2025-01-07T18:44:24.767299Z"
    }
   },
   "outputs": [
    {
     "data": {
      "text/plain": [
       "array([330.        , 329.49337975, 328.98541811, 328.47597771,\n",
       "       327.96492248, 327.45210794, 326.93738794, 326.42061431,\n",
       "       325.90163557, 325.38029872, 324.85644525, 324.32991033,\n",
       "       323.80052485, 323.2681167 , 322.73251043, 322.19352622,\n",
       "       321.6509789 , 321.10467625, 320.55441795, 320.        ])"
      ]
     },
     "execution_count": 73,
     "metadata": {},
     "output_type": "execute_result"
    }
   ],
   "source": [
    "hds1c[0, 0, :]"
   ]
  },
  {
   "cell_type": "code",
   "execution_count": 74,
   "metadata": {
    "execution": {
     "iopub.execute_input": "2025-01-07T18:44:24.771239Z",
     "iopub.status.busy": "2025-01-07T18:44:24.771132Z",
     "iopub.status.idle": "2025-01-07T18:44:24.782341Z",
     "shell.execute_reply": "2025-01-07T18:44:24.781902Z",
     "shell.execute_reply.started": "2025-01-07T18:44:24.771229Z"
    }
   },
   "outputs": [
    {
     "data": {
      "text/plain": [
       "array([330.        , 329.25942191, 328.59984434, 328.00817433,\n",
       "       327.47268975, 326.98281118, 326.52890663, 326.10210529,\n",
       "       325.69408801, 325.29689924, 324.90275428, 324.50383646,\n",
       "       324.09208382, 323.65895973, 323.19519864, 322.6905155 ,\n",
       "       322.13326603, 321.5100372 , 320.80514212, 320.        ])"
      ]
     },
     "execution_count": 74,
     "metadata": {},
     "output_type": "execute_result"
    }
   ],
   "source": [
    "# PS1a layer 1 heads\n",
    "hds[0, 0, :]"
   ]
  },
  {
   "cell_type": "code",
   "execution_count": 75,
   "metadata": {
    "execution": {
     "iopub.execute_input": "2025-01-07T18:44:24.783099Z",
     "iopub.status.busy": "2025-01-07T18:44:24.782952Z",
     "iopub.status.idle": "2025-01-07T18:44:24.786297Z",
     "shell.execute_reply": "2025-01-07T18:44:24.785863Z",
     "shell.execute_reply.started": "2025-01-07T18:44:24.783082Z"
    }
   },
   "outputs": [
    {
     "data": {
      "text/plain": [
       "array([ 0.        ,  0.23395784,  0.38557377,  0.46780339,  0.49223274,\n",
       "        0.46929676,  0.40848131,  0.31850901,  0.20754756,  0.08339949,\n",
       "       -0.04630903, -0.17392613, -0.29155897, -0.39084304, -0.4626882 ,\n",
       "       -0.49698928, -0.48228713, -0.40536095, -0.25072417,  0.        ])"
      ]
     },
     "execution_count": 75,
     "metadata": {},
     "output_type": "execute_result"
    }
   ],
   "source": [
    "# head difference\n",
    "hds1c[0, 0, :] - hds[0, 0, :]"
   ]
  },
  {
   "cell_type": "code",
   "execution_count": 76,
   "metadata": {
    "execution": {
     "iopub.execute_input": "2025-01-07T18:44:24.787152Z",
     "iopub.status.busy": "2025-01-07T18:44:24.787038Z",
     "iopub.status.idle": "2025-01-07T18:44:24.790590Z",
     "shell.execute_reply": "2025-01-07T18:44:24.790023Z",
     "shell.execute_reply.started": "2025-01-07T18:44:24.787142Z"
    }
   },
   "outputs": [
    {
     "data": {
      "text/plain": [
       "array([327.53901752, 327.28573603, 327.03161296, 326.77669128,\n",
       "       326.52091136, 326.26420628, 326.00650742, 325.74775117,\n",
       "       325.48787446, 325.22680845, 324.96447907, 324.70081062,\n",
       "       324.43572749, 324.16915339, 323.90100939, 323.63121311,\n",
       "       323.35967994, 323.08632318, 322.81104878, 322.5338768 ])"
      ]
     },
     "execution_count": 76,
     "metadata": {},
     "output_type": "execute_result"
    }
   ],
   "source": [
    "hds1c[1, 0, :]"
   ]
  },
  {
   "cell_type": "code",
   "execution_count": 77,
   "metadata": {
    "execution": {
     "iopub.execute_input": "2025-01-07T18:44:24.791253Z",
     "iopub.status.busy": "2025-01-07T18:44:24.791126Z",
     "iopub.status.idle": "2025-01-07T18:44:24.794324Z",
     "shell.execute_reply": "2025-01-07T18:44:24.793791Z",
     "shell.execute_reply.started": "2025-01-07T18:44:24.791242Z"
    }
   },
   "outputs": [
    {
     "data": {
      "text/plain": [
       "array([327.75069153, 327.37432502, 327.03235786, 326.71941741,\n",
       "       326.43050819, 326.16112295, 325.90714429, 325.66476024,\n",
       "       325.4303907 , 325.20060645, 324.97204314, 324.74131357,\n",
       "       324.50491623, 324.25913563, 323.9999304 , 323.72280367,\n",
       "       323.42264865, 323.0935688 , 322.72864819, 322.31985446])"
      ]
     },
     "execution_count": 77,
     "metadata": {},
     "output_type": "execute_result"
    }
   ],
   "source": [
    "# PS1a layer 2 heads\n",
    "hds[1, 0, :]"
   ]
  },
  {
   "cell_type": "code",
   "execution_count": 78,
   "metadata": {
    "execution": {
     "iopub.execute_input": "2025-01-07T18:44:24.795161Z",
     "iopub.status.busy": "2025-01-07T18:44:24.795047Z",
     "iopub.status.idle": "2025-01-07T18:44:24.798388Z",
     "shell.execute_reply": "2025-01-07T18:44:24.797934Z",
     "shell.execute_reply.started": "2025-01-07T18:44:24.795151Z"
    }
   },
   "outputs": [
    {
     "data": {
      "text/plain": [
       "array([-0.21167401, -0.088589  , -0.0007449 ,  0.05727387,  0.09040317,\n",
       "        0.10308333,  0.09936313,  0.08299093,  0.05748376,  0.026202  ,\n",
       "       -0.00756406, -0.04050295, -0.06918874, -0.08998224, -0.09892101,\n",
       "       -0.09159056, -0.06296871, -0.00724562,  0.08240059,  0.21402234])"
      ]
     },
     "execution_count": 78,
     "metadata": {},
     "output_type": "execute_result"
    }
   ],
   "source": [
    "# head difference\n",
    "hds1c[1, 0, :] - hds[1, 0, :]"
   ]
  },
  {
   "cell_type": "markdown",
   "metadata": {},
   "source": [
    "### Calculate the rate of flow between column 10 and 11"
   ]
  },
  {
   "cell_type": "code",
   "execution_count": 79,
   "metadata": {
    "execution": {
     "iopub.execute_input": "2025-01-07T18:44:24.799365Z",
     "iopub.status.busy": "2025-01-07T18:44:24.799240Z",
     "iopub.status.idle": "2025-01-07T18:44:24.853090Z",
     "shell.execute_reply": "2025-01-07T18:44:24.848967Z",
     "shell.execute_reply.started": "2025-01-07T18:44:24.799353Z"
    }
   },
   "outputs": [
    {
     "data": {
      "text/plain": [
       "array([-0.52385347, -0.26232937, -0.0008195 ])"
      ]
     },
     "execution_count": 79,
     "metadata": {},
     "output_type": "execute_result"
    }
   ],
   "source": [
    "hd1c = hds1c[:, 0, 10] - hds1c[:, 0, 9]\n",
    "hd1c"
   ]
  },
  {
   "cell_type": "code",
   "execution_count": 80,
   "metadata": {
    "execution": {
     "iopub.execute_input": "2025-01-07T18:44:24.865775Z",
     "iopub.status.busy": "2025-01-07T18:44:24.863202Z",
     "iopub.status.idle": "2025-01-07T18:44:24.894915Z",
     "shell.execute_reply": "2025-01-07T18:44:24.892276Z",
     "shell.execute_reply.started": "2025-01-07T18:44:24.865030Z"
    }
   },
   "outputs": [
    {
     "data": {
      "text/plain": [
       "[np.float64(105.11837198556162), 20, 200]"
      ]
     },
     "execution_count": 80,
     "metadata": {},
     "output_type": "execute_result"
    }
   ],
   "source": [
    "b1c = [hds1c[0, 0, 9:11].mean() - botm[0], botm[0] - botm[1], botm[1] - botm[2]]\n",
    "b1c"
   ]
  },
  {
   "cell_type": "code",
   "execution_count": 81,
   "metadata": {
    "execution": {
     "iopub.execute_input": "2025-01-07T18:44:24.898474Z",
     "iopub.status.busy": "2025-01-07T18:44:24.897941Z",
     "iopub.status.idle": "2025-01-07T18:44:24.901683Z",
     "shell.execute_reply": "2025-01-07T18:44:24.901260Z",
     "shell.execute_reply.started": "2025-01-07T18:44:24.898427Z"
    }
   },
   "outputs": [
    {
     "data": {
      "text/plain": [
       "array([-2.75333122e+03, -5.24658749e-04, -3.27799952e+01])"
      ]
     },
     "execution_count": 81,
     "metadata": {},
     "output_type": "execute_result"
    }
   ],
   "source": [
    "Q1c = np.array(k) * b1c * delc * hd1c / delr\n",
    "Q1c"
   ]
  },
  {
   "cell_type": "code",
   "execution_count": 82,
   "metadata": {
    "execution": {
     "iopub.execute_input": "2025-01-07T18:44:24.902478Z",
     "iopub.status.busy": "2025-01-07T18:44:24.902325Z",
     "iopub.status.idle": "2025-01-07T18:44:24.905060Z",
     "shell.execute_reply": "2025-01-07T18:44:24.904725Z",
     "shell.execute_reply.started": "2025-01-07T18:44:24.902467Z"
    }
   },
   "outputs": [
    {
     "data": {
      "text/plain": [
       "array([-2.07122832e+03, -4.57126627e-02, -2.54544360e+03])"
      ]
     },
     "execution_count": 82,
     "metadata": {},
     "output_type": "execute_result"
    }
   ],
   "source": [
    "# PS1a results\n",
    "Q"
   ]
  },
  {
   "cell_type": "markdown",
   "metadata": {},
   "source": [
    "## PS1D\n",
    "\n",
    "Remove the silt in the middle of the domain"
   ]
  },
  {
   "cell_type": "code",
   "execution_count": 83,
   "metadata": {
    "execution": {
     "iopub.execute_input": "2025-01-07T18:44:24.905879Z",
     "iopub.status.busy": "2025-01-07T18:44:24.905640Z",
     "iopub.status.idle": "2025-01-07T18:44:24.937318Z",
     "shell.execute_reply": "2025-01-07T18:44:24.936946Z",
     "shell.execute_reply.started": "2025-01-07T18:44:24.905866Z"
    }
   },
   "outputs": [
    {
     "name": "stdout",
     "output_type": "stream",
     "text": [
      "loading simulation...\n",
      "  loading simulation name file...\n",
      "  loading tdis package...\n",
      "  loading model gwf6...\n",
      "    loading package dis...\n",
      "    loading package ic...\n",
      "    loading package npf...\n",
      "    loading package chd...\n",
      "    loading package chd...\n",
      "    loading package oc...\n",
      "  loading solution package ps1...\n"
     ]
    }
   ],
   "source": [
    "sim = flopy.mf6.MFSimulation.load(sim_ws=\"PS1a\")"
   ]
  },
  {
   "cell_type": "code",
   "execution_count": 84,
   "metadata": {
    "execution": {
     "iopub.execute_input": "2025-01-07T18:44:24.937935Z",
     "iopub.status.busy": "2025-01-07T18:44:24.937823Z",
     "iopub.status.idle": "2025-01-07T18:44:24.941336Z",
     "shell.execute_reply": "2025-01-07T18:44:24.940393Z",
     "shell.execute_reply.started": "2025-01-07T18:44:24.937926Z"
    }
   },
   "outputs": [],
   "source": [
    "ws = pl.Path(\"PS1d\")\n",
    "sim.set_sim_path(ws)"
   ]
  },
  {
   "cell_type": "code",
   "execution_count": 85,
   "metadata": {
    "execution": {
     "iopub.execute_input": "2025-01-07T18:44:24.942061Z",
     "iopub.status.busy": "2025-01-07T18:44:24.941946Z",
     "iopub.status.idle": "2025-01-07T18:44:24.944250Z",
     "shell.execute_reply": "2025-01-07T18:44:24.943843Z",
     "shell.execute_reply.started": "2025-01-07T18:44:24.942050Z"
    }
   },
   "outputs": [],
   "source": [
    "gwf = sim.get_model()"
   ]
  },
  {
   "cell_type": "code",
   "execution_count": 86,
   "metadata": {
    "execution": {
     "iopub.execute_input": "2025-01-07T18:44:24.944844Z",
     "iopub.status.busy": "2025-01-07T18:44:24.944757Z",
     "iopub.status.idle": "2025-01-07T18:44:24.947932Z",
     "shell.execute_reply": "2025-01-07T18:44:24.947447Z",
     "shell.execute_reply.started": "2025-01-07T18:44:24.944834Z"
    }
   },
   "outputs": [],
   "source": [
    "kl2 = np.full((nrow, ncol), 0.0001)\n",
    "k33l2 = np.full((nrow, ncol), 0.0001)\n",
    "kl2[8:13, 4:15] = 50\n",
    "k33l2[8:13, 4:15] = 10"
   ]
  },
  {
   "cell_type": "code",
   "execution_count": 87,
   "metadata": {
    "execution": {
     "iopub.execute_input": "2025-01-07T18:44:24.948840Z",
     "iopub.status.busy": "2025-01-07T18:44:24.948585Z",
     "iopub.status.idle": "2025-01-07T18:44:25.008995Z",
     "shell.execute_reply": "2025-01-07T18:44:25.008695Z",
     "shell.execute_reply.started": "2025-01-07T18:44:24.948821Z"
    }
   },
   "outputs": [
    {
     "data": {
      "text/plain": [
       "<matplotlib.image.AxesImage at 0x155421450>"
      ]
     },
     "execution_count": 87,
     "metadata": {},
     "output_type": "execute_result"
    },
    {
     "data": {
      "image/png": "[encoded data removed]",
      "text/plain": [
       "<Figure size 640x480 with 1 Axes>"
      ]
     },
     "metadata": {},
     "output_type": "display_data"
    }
   ],
   "source": [
    "plt.imshow(kl2)"
   ]
  },
  {
   "cell_type": "code",
   "execution_count": 88,
   "metadata": {
    "execution": {
     "iopub.execute_input": "2025-01-07T18:44:25.009668Z",
     "iopub.status.busy": "2025-01-07T18:44:25.009559Z",
     "iopub.status.idle": "2025-01-07T18:44:25.012311Z",
     "shell.execute_reply": "2025-01-07T18:44:25.011747Z",
     "shell.execute_reply.started": "2025-01-07T18:44:25.009657Z"
    }
   },
   "outputs": [],
   "source": [
    "k1d = [50, kl2, 200]\n",
    "k331d = [10, k33l2, 20]"
   ]
  },
  {
   "cell_type": "code",
   "execution_count": 89,
   "metadata": {
    "execution": {
     "iopub.execute_input": "2025-01-07T18:44:25.025207Z",
     "iopub.status.busy": "2025-01-07T18:44:25.025039Z",
     "iopub.status.idle": "2025-01-07T18:44:25.029237Z",
     "shell.execute_reply": "2025-01-07T18:44:25.028750Z",
     "shell.execute_reply.started": "2025-01-07T18:44:25.025195Z"
    }
   },
   "outputs": [
    {
     "name": "stdout",
     "output_type": "stream",
     "text": [
      "WARNING: Package with type npf already exists. Replacing existing package.\n"
     ]
    }
   ],
   "source": [
    "npf = flopy.mf6.ModflowGwfnpf(gwf, save_specific_discharge=True, icelltype=icelltype, k=k1d, k33=k331d)"
   ]
  },
  {
   "cell_type": "code",
   "execution_count": 90,
   "metadata": {
    "execution": {
     "iopub.execute_input": "2025-01-07T18:44:25.030113Z",
     "iopub.status.busy": "2025-01-07T18:44:25.029986Z",
     "iopub.status.idle": "2025-01-07T18:44:25.073166Z",
     "shell.execute_reply": "2025-01-07T18:44:25.072882Z",
     "shell.execute_reply.started": "2025-01-07T18:44:25.030103Z"
    }
   },
   "outputs": [
    {
     "name": "stdout",
     "output_type": "stream",
     "text": [
      "writing simulation...\n",
      "  writing simulation name file...\n",
      "  writing simulation tdis package...\n",
      "  writing solution package ps1...\n",
      "  writing model ps1...\n",
      "    writing model name file...\n",
      "    writing package dis...\n",
      "    writing package ic...\n",
      "    writing package river...\n",
      "    writing package canal...\n",
      "    writing package oc...\n",
      "    writing package npf...\n"
     ]
    }
   ],
   "source": [
    "sim.write_simulation()"
   ]
  },
  {
   "cell_type": "code",
   "execution_count": 91,
   "metadata": {
    "execution": {
     "iopub.execute_input": "2025-01-07T18:44:25.073916Z",
     "iopub.status.busy": "2025-01-07T18:44:25.073787Z",
     "iopub.status.idle": "2025-01-07T18:44:25.172412Z",
     "shell.execute_reply": "2025-01-07T18:44:25.172063Z",
     "shell.execute_reply.started": "2025-01-07T18:44:25.073905Z"
    }
   },
   "outputs": [
    {
     "name": "stdout",
     "output_type": "stream",
     "text": [
      "FloPy is using the following executable to run the model: ../../../../../../miniforge3/envs/gw3099/bin/mf6\n",
      "                                   MODFLOW 6\n",
      "                U.S. GEOLOGICAL SURVEY MODULAR HYDROLOGIC MODEL\n",
      "                  VERSION 6.6.0.dev0 (preliminary) 12/05/2024\n",
      "                               ***DEVELOP MODE***\n",
      "\n",
      "        MODFLOW 6 compiled Dec  5 2024 13:34:29 with GCC version 13.3.0\n",
      "\n",
      "This software is preliminary or provisional and is subject to \n",
      "revision. It is being provided to meet the need for timely best \n",
      "science. The software has not received final approval by the U.S. \n",
      "Geological Survey (USGS). No warranty, expressed or implied, is made \n",
      "by the USGS or the U.S. Government as to the functionality of the \n",
      "software and related material nor shall the fact of release \n",
      "constitute any such warranty. The software is provided on the \n",
      "condition that neither the USGS nor the U.S. Government shall be held \n",
      "liable for any damages resulting from the authorized or unauthorized \n",
      "use of the software.\n",
      "\n",
      "\n",
      " MODFLOW runs in SEQUENTIAL mode\n",
      "\n",
      " Run start date and time (yyyy/mm/dd hh:mm:ss): 2025/01/07 10:44:25\n",
      "\n",
      " Writing simulation list file: mfsim.lst\n",
      " Using Simulation name file: mfsim.nam\n",
      "\n",
      "    Solving:  Stress period:     1    Time step:     1\n",
      "\n",
      " Run end date and time (yyyy/mm/dd hh:mm:ss): 2025/01/07 10:44:25\n",
      " Elapsed run time:  0.077 Seconds\n",
      "\n",
      " Normal termination of simulation.\n"
     ]
    },
    {
     "data": {
      "text/plain": [
       "(True, [])"
      ]
     },
     "execution_count": 91,
     "metadata": {},
     "output_type": "execute_result"
    }
   ],
   "source": [
    "sim.run_simulation()"
   ]
  },
  {
   "cell_type": "markdown",
   "metadata": {},
   "source": [
    "### Summarize the effect on the groundwater flow pattern"
   ]
  },
  {
   "cell_type": "code",
   "execution_count": 92,
   "metadata": {
    "execution": {
     "iopub.execute_input": "2025-01-07T18:44:25.173316Z",
     "iopub.status.busy": "2025-01-07T18:44:25.173149Z",
     "iopub.status.idle": "2025-01-07T18:44:25.189079Z",
     "shell.execute_reply": "2025-01-07T18:44:25.188769Z",
     "shell.execute_reply.started": "2025-01-07T18:44:25.173304Z"
    }
   },
   "outputs": [],
   "source": [
    "hds1d = gwf.output.head().get_data()"
   ]
  },
  {
   "cell_type": "code",
   "execution_count": 93,
   "metadata": {
    "execution": {
     "iopub.execute_input": "2025-01-07T18:44:25.189767Z",
     "iopub.status.busy": "2025-01-07T18:44:25.189647Z",
     "iopub.status.idle": "2025-01-07T18:44:25.195349Z",
     "shell.execute_reply": "2025-01-07T18:44:25.195056Z",
     "shell.execute_reply.started": "2025-01-07T18:44:25.189756Z"
    }
   },
   "outputs": [],
   "source": [
    "spd1d = gwf.output.budget().get_data(text=\"DATA-SPDIS\")[0]"
   ]
  },
  {
   "cell_type": "code",
   "execution_count": 94,
   "metadata": {
    "execution": {
     "iopub.execute_input": "2025-01-07T18:44:25.195966Z",
     "iopub.status.busy": "2025-01-07T18:44:25.195869Z",
     "iopub.status.idle": "2025-01-07T18:44:25.199131Z",
     "shell.execute_reply": "2025-01-07T18:44:25.198710Z",
     "shell.execute_reply.started": "2025-01-07T18:44:25.195956Z"
    }
   },
   "outputs": [],
   "source": [
    "qx1d, qy1d, qz1d = flopy.utils.postprocessing.get_specific_discharge(spd1d, gwf)"
   ]
  },
  {
   "cell_type": "code",
   "execution_count": 95,
   "metadata": {
    "execution": {
     "iopub.execute_input": "2025-01-07T18:44:25.200125Z",
     "iopub.status.busy": "2025-01-07T18:44:25.199888Z",
     "iopub.status.idle": "2025-01-07T18:44:25.269724Z",
     "shell.execute_reply": "2025-01-07T18:44:25.269401Z",
     "shell.execute_reply.started": "2025-01-07T18:44:25.200111Z"
    }
   },
   "outputs": [
    {
     "data": {
      "text/plain": [
       "<matplotlib.collections.LineCollection at 0x15553d150>"
      ]
     },
     "execution_count": 95,
     "metadata": {},
     "output_type": "execute_result"
    },
    {
     "data": {
      "image/png": "[encoded data removed]",
      "text/plain": [
       "<Figure size 640x480 with 1 Axes>"
      ]
     },
     "metadata": {},
     "output_type": "display_data"
    }
   ],
   "source": [
    "mm = flopy.plot.PlotMapView(model=gwf, )\n",
    "cbv = mm.plot_array(hds1d)\n",
    "q = mm.plot_vector(qx1d, qy1d, normalize=True)\n",
    "mm.plot_bc(\"CHD\")\n",
    "mm.plot_bc(\"CHD\")\n",
    "mm.plot_grid(lw=0.5, color=\"black\")"
   ]
  },
  {
   "cell_type": "code",
   "execution_count": 96,
   "metadata": {
    "execution": {
     "iopub.execute_input": "2025-01-07T18:44:25.270392Z",
     "iopub.status.busy": "2025-01-07T18:44:25.270280Z",
     "iopub.status.idle": "2025-01-07T18:44:25.329461Z",
     "shell.execute_reply": "2025-01-07T18:44:25.329189Z",
     "shell.execute_reply.started": "2025-01-07T18:44:25.270381Z"
    }
   },
   "outputs": [
    {
     "data": {
      "text/plain": [
       "<matplotlib.collections.LineCollection at 0x1556041f0>"
      ]
     },
     "execution_count": 96,
     "metadata": {},
     "output_type": "execute_result"
    },
    {
     "data": {
      "image/png": "[encoded data removed]",
      "text/plain": [
       "<Figure size 640x480 with 1 Axes>"
      ]
     },
     "metadata": {},
     "output_type": "display_data"
    }
   ],
   "source": [
    "# PS1a results\n",
    "mm = flopy.plot.PlotMapView(model=gwf, )\n",
    "cbv = mm.plot_array(hds)\n",
    "q = mm.plot_vector(spd[\"qx\"], spd[\"qy\"], normalize=True)\n",
    "mm.plot_bc(\"CHD\")\n",
    "mm.plot_bc(\"CHD\")\n",
    "mm.plot_grid(lw=0.5, color=\"black\")"
   ]
  },
  {
   "cell_type": "markdown",
   "metadata": {},
   "source": [
    "## PS1E\n",
    "\n",
    "Using idomain to make the hole in the silt."
   ]
  },
  {
   "cell_type": "code",
   "execution_count": 97,
   "metadata": {
    "execution": {
     "iopub.execute_input": "2025-01-07T18:44:25.330129Z",
     "iopub.status.busy": "2025-01-07T18:44:25.330033Z",
     "iopub.status.idle": "2025-01-07T18:44:25.351802Z",
     "shell.execute_reply": "2025-01-07T18:44:25.351501Z",
     "shell.execute_reply.started": "2025-01-07T18:44:25.330119Z"
    }
   },
   "outputs": [
    {
     "name": "stdout",
     "output_type": "stream",
     "text": [
      "loading simulation...\n",
      "  loading simulation name file...\n",
      "  loading tdis package...\n",
      "  loading model gwf6...\n",
      "    loading package dis...\n",
      "    loading package ic...\n",
      "    loading package npf...\n",
      "    loading package chd...\n",
      "    loading package chd...\n",
      "    loading package oc...\n",
      "  loading solution package ps1...\n"
     ]
    }
   ],
   "source": [
    "sim = flopy.mf6.MFSimulation.load(sim_ws=\"PS1a\")"
   ]
  },
  {
   "cell_type": "code",
   "execution_count": 98,
   "metadata": {
    "execution": {
     "iopub.execute_input": "2025-01-07T18:44:25.352350Z",
     "iopub.status.busy": "2025-01-07T18:44:25.352256Z",
     "iopub.status.idle": "2025-01-07T18:44:25.354573Z",
     "shell.execute_reply": "2025-01-07T18:44:25.354305Z",
     "shell.execute_reply.started": "2025-01-07T18:44:25.352340Z"
    }
   },
   "outputs": [],
   "source": [
    "ws = pl.Path(\"PS1e\")\n",
    "sim.set_sim_path(ws)"
   ]
  },
  {
   "cell_type": "code",
   "execution_count": 99,
   "metadata": {
    "execution": {
     "iopub.execute_input": "2025-01-07T18:44:25.355030Z",
     "iopub.status.busy": "2025-01-07T18:44:25.354892Z",
     "iopub.status.idle": "2025-01-07T18:44:25.358773Z",
     "shell.execute_reply": "2025-01-07T18:44:25.357993Z",
     "shell.execute_reply.started": "2025-01-07T18:44:25.355018Z"
    }
   },
   "outputs": [],
   "source": [
    "gwf = sim.get_model()"
   ]
  },
  {
   "cell_type": "code",
   "execution_count": 100,
   "metadata": {
    "execution": {
     "iopub.execute_input": "2025-01-07T18:44:25.359634Z",
     "iopub.status.busy": "2025-01-07T18:44:25.359530Z",
     "iopub.status.idle": "2025-01-07T18:44:25.362103Z",
     "shell.execute_reply": "2025-01-07T18:44:25.361655Z",
     "shell.execute_reply.started": "2025-01-07T18:44:25.359623Z"
    }
   },
   "outputs": [],
   "source": [
    "idomainl2 = np.full((nrow, ncol), 1, dtype=int)\n",
    "idomainl2[8:13, 4:15] = -1"
   ]
  },
  {
   "cell_type": "code",
   "execution_count": 101,
   "metadata": {
    "execution": {
     "iopub.execute_input": "2025-01-07T18:44:25.362733Z",
     "iopub.status.busy": "2025-01-07T18:44:25.362631Z",
     "iopub.status.idle": "2025-01-07T18:44:25.365604Z",
     "shell.execute_reply": "2025-01-07T18:44:25.365195Z",
     "shell.execute_reply.started": "2025-01-07T18:44:25.362722Z"
    }
   },
   "outputs": [],
   "source": [
    "botml1 = np.full((nrow, ncol), 220.)\n",
    "botml1[8:13, 4:15] = 200."
   ]
  },
  {
   "cell_type": "code",
   "execution_count": 102,
   "metadata": {
    "execution": {
     "iopub.execute_input": "2025-01-07T18:44:25.366266Z",
     "iopub.status.busy": "2025-01-07T18:44:25.366154Z",
     "iopub.status.idle": "2025-01-07T18:44:25.368777Z",
     "shell.execute_reply": "2025-01-07T18:44:25.368330Z",
     "shell.execute_reply.started": "2025-01-07T18:44:25.366255Z"
    }
   },
   "outputs": [],
   "source": [
    "idomain1e = [1, idomainl2, 1]\n",
    "botm1e = [botml1, 200., 0]"
   ]
  },
  {
   "cell_type": "code",
   "execution_count": 103,
   "metadata": {
    "execution": {
     "iopub.execute_input": "2025-01-07T18:44:25.369796Z",
     "iopub.status.busy": "2025-01-07T18:44:25.369441Z",
     "iopub.status.idle": "2025-01-07T18:44:25.373758Z",
     "shell.execute_reply": "2025-01-07T18:44:25.373195Z",
     "shell.execute_reply.started": "2025-01-07T18:44:25.369780Z"
    }
   },
   "outputs": [
    {
     "name": "stdout",
     "output_type": "stream",
     "text": [
      "WARNING: Package with type dis already exists. Replacing existing package.\n"
     ]
    }
   ],
   "source": [
    "dis = flopy.mf6.ModflowGwfdis(gwf, nlay=nlay, nrow=nrow, ncol=ncol, delr=delr, delc=delc, top=top, botm=botm1e, idomain=idomain1e)"
   ]
  },
  {
   "cell_type": "code",
   "execution_count": 104,
   "metadata": {
    "execution": {
     "iopub.execute_input": "2025-01-07T18:44:25.374568Z",
     "iopub.status.busy": "2025-01-07T18:44:25.374456Z",
     "iopub.status.idle": "2025-01-07T18:44:25.433223Z",
     "shell.execute_reply": "2025-01-07T18:44:25.432873Z",
     "shell.execute_reply.started": "2025-01-07T18:44:25.374558Z"
    }
   },
   "outputs": [
    {
     "name": "stdout",
     "output_type": "stream",
     "text": [
      "writing simulation...\n",
      "  writing simulation name file...\n",
      "  writing simulation tdis package...\n",
      "  writing solution package ps1...\n",
      "  writing model ps1...\n",
      "    writing model name file...\n",
      "    writing package ic...\n",
      "    writing package npf...\n",
      "    writing package river...\n",
      "    writing package canal...\n",
      "    writing package oc...\n",
      "    writing package dis...\n"
     ]
    }
   ],
   "source": [
    "sim.write_simulation()"
   ]
  },
  {
   "cell_type": "code",
   "execution_count": 105,
   "metadata": {
    "execution": {
     "iopub.execute_input": "2025-01-07T18:44:25.433934Z",
     "iopub.status.busy": "2025-01-07T18:44:25.433796Z",
     "iopub.status.idle": "2025-01-07T18:44:25.517464Z",
     "shell.execute_reply": "2025-01-07T18:44:25.517163Z",
     "shell.execute_reply.started": "2025-01-07T18:44:25.433919Z"
    }
   },
   "outputs": [
    {
     "name": "stdout",
     "output_type": "stream",
     "text": [
      "FloPy is using the following executable to run the model: ../../../../../../miniforge3/envs/gw3099/bin/mf6\n",
      "                                   MODFLOW 6\n",
      "                U.S. GEOLOGICAL SURVEY MODULAR HYDROLOGIC MODEL\n",
      "                  VERSION 6.6.0.dev0 (preliminary) 12/05/2024\n",
      "                               ***DEVELOP MODE***\n",
      "\n",
      "        MODFLOW 6 compiled Dec  5 2024 13:34:29 with GCC version 13.3.0\n",
      "\n",
      "This software is preliminary or provisional and is subject to \n",
      "revision. It is being provided to meet the need for timely best \n",
      "science. The software has not received final approval by the U.S. \n",
      "Geological Survey (USGS). No warranty, expressed or implied, is made \n",
      "by the USGS or the U.S. Government as to the functionality of the \n",
      "software and related material nor shall the fact of release \n",
      "constitute any such warranty. The software is provided on the \n",
      "condition that neither the USGS nor the U.S. Government shall be held \n",
      "liable for any damages resulting from the authorized or unauthorized \n",
      "use of the software.\n",
      "\n",
      "\n",
      " MODFLOW runs in SEQUENTIAL mode\n",
      "\n",
      " Run start date and time (yyyy/mm/dd hh:mm:ss): 2025/01/07 10:44:25\n",
      "\n",
      " Writing simulation list file: mfsim.lst\n",
      " Using Simulation name file: mfsim.nam\n",
      "\n",
      "    Solving:  Stress period:     1    Time step:     1\n",
      "\n",
      " Run end date and time (yyyy/mm/dd hh:mm:ss): 2025/01/07 10:44:25\n",
      " Elapsed run time:  0.060 Seconds\n",
      "\n",
      " Normal termination of simulation.\n"
     ]
    },
    {
     "data": {
      "text/plain": [
       "(True, [])"
      ]
     },
     "execution_count": 105,
     "metadata": {},
     "output_type": "execute_result"
    }
   ],
   "source": [
    "sim.run_simulation()"
   ]
  },
  {
   "cell_type": "markdown",
   "metadata": {},
   "source": [
    "### Summarize the effect on the groundwater flow pattern"
   ]
  },
  {
   "cell_type": "code",
   "execution_count": 106,
   "metadata": {
    "execution": {
     "iopub.execute_input": "2025-01-07T18:44:25.518182Z",
     "iopub.status.busy": "2025-01-07T18:44:25.518061Z",
     "iopub.status.idle": "2025-01-07T18:44:25.529876Z",
     "shell.execute_reply": "2025-01-07T18:44:25.529621Z",
     "shell.execute_reply.started": "2025-01-07T18:44:25.518171Z"
    }
   },
   "outputs": [],
   "source": [
    "hds1e = gwf.output.head().get_data()"
   ]
  },
  {
   "cell_type": "code",
   "execution_count": 107,
   "metadata": {
    "execution": {
     "iopub.execute_input": "2025-01-07T18:44:25.530469Z",
     "iopub.status.busy": "2025-01-07T18:44:25.530377Z",
     "iopub.status.idle": "2025-01-07T18:44:25.533615Z",
     "shell.execute_reply": "2025-01-07T18:44:25.533122Z",
     "shell.execute_reply.started": "2025-01-07T18:44:25.530458Z"
    }
   },
   "outputs": [
    {
     "data": {
      "text/plain": [
       "(np.float64(320.0), np.float64(330.0))"
      ]
     },
     "execution_count": 107,
     "metadata": {},
     "output_type": "execute_result"
    }
   ],
   "source": [
    "hds1e[0].min(), hds1e[0].max()"
   ]
  },
  {
   "cell_type": "code",
   "execution_count": 108,
   "metadata": {
    "execution": {
     "iopub.execute_input": "2025-01-07T18:44:25.534664Z",
     "iopub.status.busy": "2025-01-07T18:44:25.534467Z",
     "iopub.status.idle": "2025-01-07T18:44:25.557425Z",
     "shell.execute_reply": "2025-01-07T18:44:25.557078Z",
     "shell.execute_reply.started": "2025-01-07T18:44:25.534646Z"
    }
   },
   "outputs": [],
   "source": [
    "spd1e = gwf.output.budget().get_data(text=\"DATA-SPDIS\")[0]"
   ]
  },
  {
   "cell_type": "code",
   "execution_count": 109,
   "metadata": {
    "execution": {
     "iopub.execute_input": "2025-01-07T18:44:25.558017Z",
     "iopub.status.busy": "2025-01-07T18:44:25.557924Z",
     "iopub.status.idle": "2025-01-07T18:44:25.559999Z",
     "shell.execute_reply": "2025-01-07T18:44:25.559712Z",
     "shell.execute_reply.started": "2025-01-07T18:44:25.558006Z"
    }
   },
   "outputs": [],
   "source": [
    "qx1e, qy1e, qz1e = flopy.utils.postprocessing.get_specific_discharge(spd1e, gwf)"
   ]
  },
  {
   "cell_type": "code",
   "execution_count": 110,
   "metadata": {
    "execution": {
     "iopub.execute_input": "2025-01-07T18:44:25.560550Z",
     "iopub.status.busy": "2025-01-07T18:44:25.560459Z",
     "iopub.status.idle": "2025-01-07T18:44:25.583527Z",
     "shell.execute_reply": "2025-01-07T18:44:25.583072Z",
     "shell.execute_reply.started": "2025-01-07T18:44:25.560540Z"
    }
   },
   "outputs": [],
   "source": [
    "levels = np.arange(320, 331, 2)"
   ]
  },
  {
   "cell_type": "code",
   "execution_count": 111,
   "metadata": {
    "execution": {
     "iopub.execute_input": "2025-01-07T18:44:25.584242Z",
     "iopub.status.busy": "2025-01-07T18:44:25.584077Z",
     "iopub.status.idle": "2025-01-07T18:44:25.706761Z",
     "shell.execute_reply": "2025-01-07T18:44:25.706466Z",
     "shell.execute_reply.started": "2025-01-07T18:44:25.584230Z"
    }
   },
   "outputs": [
    {
     "data": {
      "text/plain": [
       "<matplotlib.collections.LineCollection at 0x1559c8550>"
      ]
     },
     "execution_count": 111,
     "metadata": {},
     "output_type": "execute_result"
    },
    {
     "data": {
      "image/png": "[encoded data removed]",
      "text/plain": [
       "<Figure size 640x480 with 1 Axes>"
      ]
     },
     "metadata": {},
     "output_type": "display_data"
    }
   ],
   "source": [
    "mm = flopy.plot.PlotMapView(model=gwf, )\n",
    "cbv = mm.plot_array(hds1e)\n",
    "mm.contour_array(hds1e, colors=\"white\", levels=levels)\n",
    "q = mm.plot_vector(qx1e, qy1e, normalize=True)\n",
    "mm.plot_bc(\"CHD\")\n",
    "mm.plot_bc(\"CHD\")\n",
    "mm.plot_grid(lw=0.5, color=\"black\")"
   ]
  },
  {
   "cell_type": "code",
   "execution_count": 112,
   "metadata": {
    "execution": {
     "iopub.execute_input": "2025-01-07T18:44:25.707401Z",
     "iopub.status.busy": "2025-01-07T18:44:25.707310Z",
     "iopub.status.idle": "2025-01-07T18:44:25.774519Z",
     "shell.execute_reply": "2025-01-07T18:44:25.774203Z",
     "shell.execute_reply.started": "2025-01-07T18:44:25.707391Z"
    }
   },
   "outputs": [
    {
     "data": {
      "text/plain": [
       "<matplotlib.collections.LineCollection at 0x155a5eec0>"
      ]
     },
     "execution_count": 112,
     "metadata": {},
     "output_type": "execute_result"
    },
    {
     "data": {
      "image/png": "[encoded data removed]",
      "text/plain": [
       "<Figure size 640x480 with 1 Axes>"
      ]
     },
     "metadata": {},
     "output_type": "display_data"
    }
   ],
   "source": [
    "# PS1d results\n",
    "mm = flopy.plot.PlotMapView(model=gwf, )\n",
    "cbv = mm.plot_array(hds1d)\n",
    "mm.contour_array(hds1d, colors=\"white\", levels=levels)\n",
    "q = mm.plot_vector(qx1d, qy1d, normalize=True)\n",
    "mm.plot_bc(\"CHD\")\n",
    "mm.plot_bc(\"CHD\")\n",
    "mm.plot_grid(lw=0.5, color=\"black\")"
   ]
  },
  {
   "cell_type": "code",
   "execution_count": null,
   "metadata": {},
   "outputs": [],
   "source": []
  },
  {
   "cell_type": "code",
   "execution_count": null,
   "metadata": {},
   "outputs": [],
   "source": []
  }
 ],
 "metadata": {
  "kernelspec": {
   "display_name": "dev",
   "language": "python",
   "name": "python3"
  }
 },
 "nbformat": 4,
 "nbformat_minor": 4
}
