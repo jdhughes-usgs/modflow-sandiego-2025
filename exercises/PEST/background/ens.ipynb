{
 "cells": [
  {
   "cell_type": "code",
   "execution_count": null,
   "metadata": {},
   "outputs": [],
   "source": [
    "import matplotlib.pyplot as plt\n",
    "import numpy as np\n",
    "import scipy"
   ]
  },
  {
   "cell_type": "code",
   "execution_count": null,
   "metadata": {},
   "outputs": [],
   "source": [
    "dy = [7.5, 7]\n",
    "dx = [0.2, 0.3]\n",
    "allx = [0.1, 0.4]\n",
    "plt.plot(dx, dy, \"bo-\", zorder=1e5)\n",
    "plt.xlim(allx)\n",
    "plt.ylim([5, 10])\n",
    "plt.plot([dx[0]] * 2, dy, \"r:\")\n",
    "plt.plot(dx, [dy[1]] * 2, \"r:\")\n",
    "\n",
    "plt.savefig(\"simplegrad.png\", dpi=500, transparent=True)"
   ]
  },
  {
   "cell_type": "code",
   "execution_count": null,
   "metadata": {},
   "outputs": [],
   "source": [
    "ally = np.zeros_like(allx)\n",
    "dydx = np.diff(dy) / np.diff(dx)\n",
    "ally[0] = dy[0] - (dx[0] - allx[0]) * dydx\n",
    "ally[-1] = dy[1] + (allx[1] - dx[1]) * dydx\n",
    "plt.plot(dx, dy, \"bo-\", zorder=1e5)\n",
    "plt.xlim([0.1, 0.4])\n",
    "plt.ylim([5, 10])\n",
    "plt.plot([dx[0]] * 2, dy, \"r:\")\n",
    "plt.plot(dx, [dy[1]] * 2, \"r:\")\n",
    "plt.plot(allx, ally, lw=0.5)\n",
    "x_perturb = np.random.uniform(0.1, 0.4, 50)\n",
    "y_perturb = (ally[0] + (x_perturb - 0.1) * dydx) + np.random.randn(\n",
    "    len(x_perturb)\n",
    ") * np.random.uniform(0.1, 1, len(x_perturb))\n",
    "a, b = np.polyfit(x_perturb, y_perturb, 1)\n",
    "fity = a * np.array(allx) + b\n",
    "dydx_emp = np.diff(fity) / np.diff(allx)\n",
    "plt.plot(x_perturb, y_perturb, \"o\", mec=\"orange\", mfc=\"orange\", ms=4)\n",
    "plt.savefig(\"ensgrad0.png\", dpi=500, transparent=True)\n",
    "plt.plot(allx, fity, \"o:\")\n",
    "\n",
    "plt.savefig(\"ensgrad1.png\", dpi=500, transparent=True)"
   ]
  },
  {
   "cell_type": "code",
   "execution_count": null,
   "metadata": {},
   "outputs": [],
   "source": [
    "dydx_emp"
   ]
  },
  {
   "cell_type": "code",
   "execution_count": null,
   "metadata": {},
   "outputs": [],
   "source": [
    "dydx"
   ]
  },
  {
   "cell_type": "code",
   "execution_count": null,
   "metadata": {},
   "outputs": [],
   "source": [
    "scipy.stats.pearsonr(x_perturb, y_perturb)[0] * (\n",
    "    np.std(y_perturb) / np.std(x_perturb)\n",
    ")"
   ]
  },
  {
   "cell_type": "code",
   "execution_count": null,
   "metadata": {},
   "outputs": [],
   "source": []
  }
 ],
 "metadata": {
  "kernelspec": {
   "display_name": "Python 3 (ipykernel)",
   "language": "python",
   "name": "python3"
  }
 },
 "nbformat": 4,
 "nbformat_minor": 4
}
