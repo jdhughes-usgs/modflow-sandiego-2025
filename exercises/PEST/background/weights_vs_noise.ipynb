{
 "cells": [
  {
   "cell_type": "markdown",
   "id": "18595c0e",
   "metadata": {},
   "source": [
    "# Exploration of adding noise to observations (or not) when using the Iterative Ensemble Smoother (iES)"
   ]
  },
  {
   "cell_type": "markdown",
   "id": "f3442d08",
   "metadata": {},
   "source": [
    "### We can start out with an objective function."
   ]
  },
  {
   "cell_type": "markdown",
   "id": "483f041c",
   "metadata": {},
   "source": [
    "Let's make a couple definitions:\n",
    "$\\boldsymbol{y}$ are the observation values\n",
    "$\\boldsymbol{X}$ is the action of the model and $\\boldsymbol{\\beta}$ is the current set of model parameters  \n",
    "Then, $\\mathbf{y}\\mathbf{-}\\mathbf{X}\\boldsymbol{\\beta}$ is the discrepancy (e.g. residual or error) between model outputs and observations.\n",
    "\n",
    "We want to minimize those, and for a variety of reasons, we actually want to minimize the square of those errors, and that set of squared errors is $\\Phi$, called the \"objective function\"\n",
    "\n",
    "$$\\Phi\\left(\\boldsymbol{\\beta}\\right) =  \\left(\\mathbf{y}\\mathbf{-}\\mathbf{X}\\boldsymbol{\\beta}\\right)^{T}\\left(\\mathbf{y}\\mathbf{\\mathbf{-}}\\mathbf{X}\\boldsymbol{\\beta}\\right) = \\sum_{i=1}^{N_{obs}}\\left( y_i - \\sum_{j=1}^{N_{par}} X_{ij}\\beta_{j}\\right)^2$$\n",
    "\n",
    "But....we know that not each observation is of equal value/information/importance/certainty, so we can use weights to amplify or suppress the contributions from specific observations. We can assign weights as:  \n",
    "$$\\omega=\\frac{1}{\\sigma}$$\n",
    "or, in matrix form, the weights are defined as $\\boldsymbol{Q}$\n",
    "$$\\Phi\\left(\\boldsymbol{\\beta}\\right)=\\left(\\mathbf{y}\\mathbf{-}\\mathbf{X}\\boldsymbol{\\beta}\\right)^{T}\\mathbf{Q}\\left(\\mathbf{y}-\\mathbf{X}\\boldsymbol{\\beta}\\right) = \\sum_{i=1}^{N_{obs}}\\left(\\omega_i \\left(y_i - \\sum_{j=1}^{N_{par}} X_{ij}\\beta_{j}\\right)\\right)^2$$  \n"
   ]
  },
  {
   "cell_type": "code",
   "execution_count": null,
   "id": "16db1984-7893-41c7-96b1-5dea91aeea56",
   "metadata": {},
   "outputs": [],
   "source": [
    "from wvn_helper import plot_mod_obs"
   ]
  },
  {
   "cell_type": "markdown",
   "id": "67f034bb",
   "metadata": {},
   "source": [
    "Without observation noise, we hope that the modeled output distribution will overlap (or \"cover\") the single observation value."
   ]
  },
  {
   "cell_type": "code",
   "execution_count": null,
   "id": "49168b3d-caf5-497d-824e-b37dfcb2fa02",
   "metadata": {},
   "outputs": [],
   "source": [
    "plot_mod_obs(6)"
   ]
  },
  {
   "cell_type": "markdown",
   "id": "b75eadd4",
   "metadata": {},
   "source": [
    "If the modeled output distribution does _not_ overlap the observed value, that observation is in \"prior data conflict\"."
   ]
  },
  {
   "cell_type": "code",
   "execution_count": null,
   "id": "6f9b143b",
   "metadata": {},
   "outputs": [],
   "source": [
    "plot_mod_obs(11, pdc=True)"
   ]
  },
  {
   "cell_type": "markdown",
   "id": "b52dbf1e-3733-460b-852a-bd1063183552",
   "metadata": {},
   "source": [
    "But what if we set an observation weight for the obs? \n",
    "\n",
    "Based on general background, we assume \n",
    "$\\omega \\approx \\frac{1}{\\sigma}$\n",
    "\n",
    "So, sampling the noise around the observation results in \n",
    "$\\sigma = \\frac{1}{\\omega}$\n",
    "\n",
    "For example, if this is a head observation, \n",
    "$\\sigma=0.5m$ is a reasonable starting point might be $\\omega=\\frac{1}{.5}=2.0$\n"
   ]
  },
  {
   "cell_type": "code",
   "execution_count": null,
   "id": "e565e031-d3fb-4af9-91a8-97c29f937a32",
   "metadata": {},
   "outputs": [],
   "source": [
    "plot_mod_obs(6, noisy=True, std=0.5)"
   ]
  },
  {
   "cell_type": "code",
   "execution_count": null,
   "id": "5816161e-5e6c-4369-9660-435f17d80f04",
   "metadata": {},
   "outputs": [],
   "source": [
    "plot_mod_obs(11, noisy=True, std=0.5, pdc=True)"
   ]
  },
  {
   "cell_type": "markdown",
   "id": "fcedc304-a18a-4fc4-bbb6-3c8b544b0bc5",
   "metadata": {},
   "source": [
    "That's all good, but what if we adjust weights to balance the objective function? This is a common approach and perfectly defensible, but say we decrease the weight on the heads quite a bit. is $\\omega \\approx \\frac{1}{\\sigma}$ still valid?\n",
    "\n",
    "If we adjust $\\omega$ to be $0.2$ then $\\sigma = \\frac{1}{\\omega} = \\frac{1}{0.2} = 5.0$"
   ]
  },
  {
   "cell_type": "code",
   "execution_count": null,
   "id": "02b47ede",
   "metadata": {},
   "outputs": [],
   "source": [
    "plot_mod_obs(11, noisy=True, std=[0.5, 5])"
   ]
  },
  {
   "cell_type": "markdown",
   "id": "47ce88b6",
   "metadata": {},
   "source": [
    "So, there are pretty important implications in how we choose observation noise. This can make the difference between a realistic representation of the noise and an unrealistic (and really, uninformative) level of spread in the observation values. Further, this decision can make the difference between concluding that an observation is in prior-data-conflict or not. With many observations, the implications of this are very important."
   ]
  }
 ],
 "metadata": {
  "kernelspec": {
   "display_name": "Python 3 (ipykernel)",
   "language": "python",
   "name": "python3"
  }
 },
 "nbformat": 4,
 "nbformat_minor": 5
}
