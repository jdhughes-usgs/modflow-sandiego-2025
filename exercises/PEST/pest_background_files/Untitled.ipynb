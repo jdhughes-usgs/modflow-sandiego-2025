{
 "cells": [
  {
   "cell_type": "code",
   "execution_count": null,
   "id": "4b925cd2-c80a-49bd-b09f-3552be32ed74",
   "metadata": {},
   "outputs": [],
   "source": [
    "import flopy as fp"
   ]
  },
  {
   "cell_type": "code",
   "execution_count": null,
   "id": "451c6856-e920-4fb6-adea-0408f008e765",
   "metadata": {},
   "outputs": [],
   "source": [
    "sim = fp.mf6.MFSimulation.load('.', load_only =['dis'])"
   ]
  },
  {
   "cell_type": "code",
   "execution_count": null,
   "id": "85e7d5c8-2826-4731-b568-673182a63bf1",
   "metadata": {},
   "outputs": [],
   "source": [
    "d = fp.mf6.ModflowGwfdis.load()"
   ]
  },
  {
   "cell_type": "code",
   "execution_count": null,
   "id": "cb34d03f-e44e-4260-a348-c55c42f1fd1a",
   "metadata": {},
   "outputs": [],
   "source": []
  }
 ],
 "metadata": {
  "kernelspec": {
   "display_name": "Python 3 (ipykernel)",
   "language": "python",
   "name": "python3"
  }
 },
 "nbformat": 4,
 "nbformat_minor": 5
}
