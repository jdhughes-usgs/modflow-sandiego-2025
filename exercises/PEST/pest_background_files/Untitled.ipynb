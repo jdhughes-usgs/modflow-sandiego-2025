{
 "cells": [
  {
   "cell_type": "code",
   "execution_count": 1,
   "id": "4b925cd2-c80a-49bd-b09f-3552be32ed74",
   "metadata": {
    "execution": {
     "iopub.execute_input": "2024-09-13T03:01:15.201662Z",
     "iopub.status.busy": "2024-09-13T03:01:15.200760Z",
     "iopub.status.idle": "2024-09-13T03:01:23.367475Z",
     "shell.execute_reply": "2024-09-13T03:01:23.366446Z",
     "shell.execute_reply.started": "2024-09-13T03:01:15.201600Z"
    }
   },
   "outputs": [],
   "source": [
    "import flopy as fp"
   ]
  },
  {
   "cell_type": "code",
   "execution_count": 7,
   "id": "451c6856-e920-4fb6-adea-0408f008e765",
   "metadata": {
    "execution": {
     "iopub.execute_input": "2024-09-13T03:04:33.369047Z",
     "iopub.status.busy": "2024-09-13T03:04:33.368132Z",
     "iopub.status.idle": "2024-09-13T03:04:33.388660Z",
     "shell.execute_reply": "2024-09-13T03:04:33.388240Z",
     "shell.execute_reply.started": "2024-09-13T03:04:33.368988Z"
    }
   },
   "outputs": [
    {
     "name": "stdout",
     "output_type": "stream",
     "text": [
      "loading simulation...\n",
      "  loading simulation name file...\n",
      "  loading tdis package...\n",
      "  loading model gwf6...\n",
      "    loading package dis...\n",
      "    skipping package ic...\n",
      "    skipping package npf...\n",
      "    skipping package oc...\n",
      "    skipping package chd...\n",
      "    skipping package rch...\n",
      "    skipping package riv...\n",
      "    skipping package wel...\n",
      "    skipping package obs...\n",
      "    skipping package ims6...\n"
     ]
    }
   ],
   "source": [
    "sim = fp.mf6.MFSimulation.load('.', load_only =['dis'])"
   ]
  },
  {
   "cell_type": "code",
   "execution_count": 3,
   "id": "85e7d5c8-2826-4731-b568-673182a63bf1",
   "metadata": {
    "execution": {
     "iopub.execute_input": "2024-09-13T03:02:49.878629Z",
     "iopub.status.busy": "2024-09-13T03:02:49.877771Z",
     "iopub.status.idle": "2024-09-13T03:02:49.903737Z",
     "shell.execute_reply": "2024-09-13T03:02:49.902915Z",
     "shell.execute_reply.started": "2024-09-13T03:02:49.878572Z"
    }
   },
   "outputs": [
    {
     "ename": "TypeError",
     "evalue": "MFPackage.load() missing 1 required positional argument: 'self'",
     "output_type": "error",
     "traceback": [
      "\u001b[0;31m---------------------------------------------------------------------------\u001b[0m",
      "\u001b[0;31mTypeError\u001b[0m                                 Traceback (most recent call last)",
      "Cell \u001b[0;32mIn[3], line 1\u001b[0m\n\u001b[0;32m----> 1\u001b[0m d \u001b[38;5;241m=\u001b[39m \u001b[43mfp\u001b[49m\u001b[38;5;241;43m.\u001b[39;49m\u001b[43mmf6\u001b[49m\u001b[38;5;241;43m.\u001b[39;49m\u001b[43mModflowGwfdis\u001b[49m\u001b[38;5;241;43m.\u001b[39;49m\u001b[43mload\u001b[49m\u001b[43m(\u001b[49m\u001b[43m)\u001b[49m\n",
      "\u001b[0;31mTypeError\u001b[0m: MFPackage.load() missing 1 required positional argument: 'self'"
     ]
    }
   ],
   "source": [
    "d = fp.mf6.ModflowGwfdis.load()"
   ]
  },
  {
   "cell_type": "code",
   "execution_count": null,
   "id": "cb34d03f-e44e-4260-a348-c55c42f1fd1a",
   "metadata": {},
   "outputs": [],
   "source": []
  }
 ],
 "metadata": {
  "kernelspec": {
   "display_name": "Python 3 (ipykernel)",
   "language": "python",
   "name": "python3"
  },
  "language_info": {
   "codemirror_mode": {
    "name": "ipython",
    "version": 3
   },
   "file_extension": ".py",
   "mimetype": "text/x-python",
   "name": "python",
   "nbconvert_exporter": "python",
   "pygments_lexer": "ipython3",
   "version": "3.11.7"
  }
 },
 "nbformat": 4,
 "nbformat_minor": 5
}
